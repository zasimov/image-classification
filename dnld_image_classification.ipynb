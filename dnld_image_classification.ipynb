{
 "cells": [
  {
   "cell_type": "markdown",
   "metadata": {
    "collapsed": true
   },
   "source": [
    "# Image Classification\n",
    "In this project, you'll classify images from the [CIFAR-10 dataset](https://www.cs.toronto.edu/~kriz/cifar.html).  The dataset consists of airplanes, dogs, cats, and other objects. You'll preprocess the images, then train a convolutional neural network on all the samples. The images need to be normalized and the labels need to be one-hot encoded.  You'll get to apply what you learned and build a convolutional, max pooling, dropout, and fully connected layers.  At the end, you'll get to see your neural network's predictions on the sample images.\n",
    "## Get the Data\n",
    "Run the following cell to download the [CIFAR-10 dataset for python](https://www.cs.toronto.edu/~kriz/cifar-10-python.tar.gz)."
   ]
  },
  {
   "cell_type": "code",
   "execution_count": 1,
   "metadata": {},
   "outputs": [
    {
     "name": "stderr",
     "output_type": "stream",
     "text": [
      "CIFAR-10 Dataset: 171MB [01:00, 2.84MB/s]                                                                              \n"
     ]
    },
    {
     "name": "stdout",
     "output_type": "stream",
     "text": [
      "All files found!\n"
     ]
    }
   ],
   "source": [
    "\"\"\"\n",
    "DON'T MODIFY ANYTHING IN THIS CELL THAT IS BELOW THIS LINE\n",
    "\"\"\"\n",
    "from urllib.request import urlretrieve\n",
    "from os.path import isfile, isdir\n",
    "from tqdm import tqdm\n",
    "import problem_unittests as tests\n",
    "import tarfile\n",
    "\n",
    "cifar10_dataset_folder_path = 'cifar-10-batches-py'\n",
    "\n",
    "# Use Floyd's cifar-10 dataset if present\n",
    "floyd_cifar10_location = '/input/cifar-10/python.tar.gz'\n",
    "if isfile(floyd_cifar10_location):\n",
    "    tar_gz_path = floyd_cifar10_location\n",
    "else:\n",
    "    tar_gz_path = 'cifar-10-python.tar.gz'\n",
    "\n",
    "class DLProgress(tqdm):\n",
    "    last_block = 0\n",
    "\n",
    "    def hook(self, block_num=1, block_size=1, total_size=None):\n",
    "        self.total = total_size\n",
    "        self.update((block_num - self.last_block) * block_size)\n",
    "        self.last_block = block_num\n",
    "\n",
    "if not isfile(tar_gz_path):\n",
    "    with DLProgress(unit='B', unit_scale=True, miniters=1, desc='CIFAR-10 Dataset') as pbar:\n",
    "        urlretrieve(\n",
    "            'https://www.cs.toronto.edu/~kriz/cifar-10-python.tar.gz',\n",
    "            tar_gz_path,\n",
    "            pbar.hook)\n",
    "\n",
    "if not isdir(cifar10_dataset_folder_path):\n",
    "    with tarfile.open(tar_gz_path) as tar:\n",
    "        tar.extractall()\n",
    "        tar.close()\n",
    "\n",
    "\n",
    "tests.test_folder_path(cifar10_dataset_folder_path)"
   ]
  },
  {
   "cell_type": "markdown",
   "metadata": {},
   "source": [
    "## Explore the Data\n",
    "The dataset is broken into batches to prevent your machine from running out of memory.  The CIFAR-10 dataset consists of 5 batches, named `data_batch_1`, `data_batch_2`, etc.. Each batch contains the labels and images that are one of the following:\n",
    "* airplane\n",
    "* automobile\n",
    "* bird\n",
    "* cat\n",
    "* deer\n",
    "* dog\n",
    "* frog\n",
    "* horse\n",
    "* ship\n",
    "* truck\n",
    "\n",
    "Understanding a dataset is part of making predictions on the data.  Play around with the code cell below by changing the `batch_id` and `sample_id`. The `batch_id` is the id for a batch (1-5). The `sample_id` is the id for a image and label pair in the batch.\n",
    "\n",
    "Ask yourself \"What are all possible labels?\", \"What is the range of values for the image data?\", \"Are the labels in order or random?\".  Answers to questions like these will help you preprocess the data and end up with better predictions."
   ]
  },
  {
   "cell_type": "code",
   "execution_count": 2,
   "metadata": {},
   "outputs": [
    {
     "name": "stdout",
     "output_type": "stream",
     "text": [
      "\n",
      "Stats of batch 1:\n",
      "Samples: 10000\n",
      "Label Counts: {0: 1005, 1: 974, 2: 1032, 3: 1016, 4: 999, 5: 937, 6: 1030, 7: 1001, 8: 1025, 9: 981}\n",
      "First 20 Labels: [6, 9, 9, 4, 1, 1, 2, 7, 8, 3, 4, 7, 7, 2, 9, 9, 9, 3, 2, 6]\n",
      "\n",
      "Example of Image 25:\n",
      "Image - Min Value: 30 Max Value: 255\n",
      "Image - Shape: (32, 32, 3)\n",
      "Label - Label Id: 6 Name: frog\n"
     ]
    },
    {
     "data": {
      "image/png": "[encoded data removed]",
      "text/plain": [
       "<matplotlib.figure.Figure at 0x1c39d1db3c8>"
      ]
     },
     "metadata": {
      "image/png": {
       "height": 250,
       "width": 253
      }
     },
     "output_type": "display_data"
    }
   ],
   "source": [
    "%matplotlib inline\n",
    "%config InlineBackend.figure_format = 'retina'\n",
    "\n",
    "import helper\n",
    "import numpy as np\n",
    "\n",
    "# Explore the dataset\n",
    "batch_id = 1\n",
    "sample_id = 25\n",
    "helper.display_stats(cifar10_dataset_folder_path, batch_id, sample_id)"
   ]
  },
  {
   "cell_type": "markdown",
   "metadata": {},
   "source": [
    "## Implement Preprocess Functions\n",
    "### Normalize\n",
    "In the cell below, implement the `normalize` function to take in image data, `x`, and return it as a normalized Numpy array. The values should be in the range of 0 to 1, inclusive.  The return object should be the same shape as `x`."
   ]
  },
  {
   "cell_type": "code",
   "execution_count": 3,
   "metadata": {},
   "outputs": [
    {
     "name": "stdout",
     "output_type": "stream",
     "text": [
      "Tests Passed\n"
     ]
    }
   ],
   "source": [
    "def normalize(x):\n",
    "    \"\"\"\n",
    "    Normalize a list of sample image data in the range of 0 to 1\n",
    "    : x: List of image data.  The image shape is (32, 32, 3)\n",
    "    : return: Numpy array of normalize data\n",
    "    \"\"\"\n",
    "    return x / x.max()\n",
    "\n",
    "\n",
    "\"\"\"\n",
    "DON'T MODIFY ANYTHING IN THIS CELL THAT IS BELOW THIS LINE\n",
    "\"\"\"\n",
    "tests.test_normalize(normalize)"
   ]
  },
  {
   "cell_type": "markdown",
   "metadata": {},
   "source": [
    "### One-hot encode\n",
    "Just like the previous code cell, you'll be implementing a function for preprocessing.  This time, you'll implement the `one_hot_encode` function. The input, `x`, are a list of labels.  Implement the function to return the list of labels as One-Hot encoded Numpy array.  The possible values for labels are 0 to 9. The one-hot encoding function should return the same encoding for each value between each call to `one_hot_encode`.  Make sure to save the map of encodings outside the function.\n",
    "\n",
    "Hint: Don't reinvent the wheel."
   ]
  },
  {
   "cell_type": "code",
   "execution_count": 4,
   "metadata": {},
   "outputs": [
    {
     "name": "stdout",
     "output_type": "stream",
     "text": [
      "Tests Passed\n"
     ]
    }
   ],
   "source": [
    "from sklearn import preprocessing\n",
    "\n",
    "class OneHotEncoder:\n",
    "    def __init__(self):\n",
    "        self._labels_set = set()\n",
    "        self._encoder = preprocessing.LabelBinarizer()\n",
    "        \n",
    "    def fit(self, labels):\n",
    "        self._labels_set = self._labels_set.union(set(labels))\n",
    "        self._encoder.fit(list(self._labels_set))\n",
    "        \n",
    "    def transform(self, labels):\n",
    "        return self._encoder.transform(labels)\n",
    "\n",
    "one_hot_encoder = OneHotEncoder()\n",
    "    \n",
    "def one_hot_encode(x):\n",
    "    \"\"\"\n",
    "    One hot encode a list of sample labels. Return a one-hot encoded vector for each label.\n",
    "    : x: List of sample Labels\n",
    "    : return: Numpy array of one-hot encoded labels\n",
    "    \"\"\"\n",
    "    one_hot_encoder.fit(x)\n",
    "    return one_hot_encoder.transform(x)\n",
    "\n",
    "\"\"\"\n",
    "DON'T MODIFY ANYTHING IN THIS CELL THAT IS BELOW THIS LINE\n",
    "\"\"\"\n",
    "tests.test_one_hot_encode(one_hot_encode)"
   ]
  },
  {
   "cell_type": "markdown",
   "metadata": {},
   "source": [
    "### Randomize Data\n",
    "As you saw from exploring the data above, the order of the samples are randomized.  It doesn't hurt to randomize it again, but you don't need to for this dataset."
   ]
  },
  {
   "cell_type": "markdown",
   "metadata": {},
   "source": [
    "## Preprocess all the data and save it\n",
    "Running the code cell below will preprocess all the CIFAR-10 data and save it to file. The code below also uses 10% of the training data for validation."
   ]
  },
  {
   "cell_type": "code",
   "execution_count": 5,
   "metadata": {
    "collapsed": true
   },
   "outputs": [],
   "source": [
    "\"\"\"\n",
    "DON'T MODIFY ANYTHING IN THIS CELL\n",
    "\"\"\"\n",
    "# Preprocess Training, Validation, and Testing Data\n",
    "helper.preprocess_and_save_data(cifar10_dataset_folder_path, normalize, one_hot_encode)"
   ]
  },
  {
   "cell_type": "markdown",
   "metadata": {},
   "source": [
    "# Check Point\n",
    "This is your first checkpoint.  If you ever decide to come back to this notebook or have to restart the notebook, you can start from here.  The preprocessed data has been saved to disk."
   ]
  },
  {
   "cell_type": "code",
   "execution_count": 6,
   "metadata": {
    "collapsed": true
   },
   "outputs": [],
   "source": [
    "\"\"\"\n",
    "DON'T MODIFY ANYTHING IN THIS CELL\n",
    "\"\"\"\n",
    "import pickle\n",
    "import problem_unittests as tests\n",
    "import helper\n",
    "\n",
    "# Load the Preprocessed Validation data\n",
    "valid_features, valid_labels = pickle.load(open('preprocess_validation.p', mode='rb'))"
   ]
  },
  {
   "cell_type": "markdown",
   "metadata": {},
   "source": [
    "## Build the network\n",
    "For the neural network, you'll build each layer into a function.  Most of the code you've seen has been outside of functions. To test your code more thoroughly, we require that you put each layer in a function.  This allows us to give you better feedback and test for simple mistakes using our unittests before you submit your project.\n",
    "\n",
    ">**Note:** If you're finding it hard to dedicate enough time for this course each week, we've provided a small shortcut to this part of the project. In the next couple of problems, you'll have the option to use classes from the [TensorFlow Layers](https://www.tensorflow.org/api_docs/python/tf/layers) or [TensorFlow Layers (contrib)](https://www.tensorflow.org/api_guides/python/contrib.layers) packages to build each layer, except the layers you build in the \"Convolutional and Max Pooling Layer\" section.  TF Layers is similar to Keras's and TFLearn's abstraction to layers, so it's easy to pickup.\n",
    "\n",
    ">However, if you would like to get the most out of this course, try to solve all the problems _without_ using anything from the TF Layers packages. You **can** still use classes from other packages that happen to have the same name as ones you find in TF Layers! For example, instead of using the TF Layers version of the `conv2d` class, [tf.layers.conv2d](https://www.tensorflow.org/api_docs/python/tf/layers/conv2d), you would want to use the TF Neural Network version of `conv2d`, [tf.nn.conv2d](https://www.tensorflow.org/api_docs/python/tf/nn/conv2d). \n",
    "\n",
    "Let's begin!\n",
    "\n",
    "### Input\n",
    "The neural network needs to read the image data, one-hot encoded labels, and dropout keep probability. Implement the following functions\n",
    "* Implement `neural_net_image_input`\n",
    " * Return a [TF Placeholder](https://www.tensorflow.org/api_docs/python/tf/placeholder)\n",
    " * Set the shape using `image_shape` with batch size set to `None`.\n",
    " * Name the TensorFlow placeholder \"x\" using the TensorFlow `name` parameter in the [TF Placeholder](https://www.tensorflow.org/api_docs/python/tf/placeholder).\n",
    "* Implement `neural_net_label_input`\n",
    " * Return a [TF Placeholder](https://www.tensorflow.org/api_docs/python/tf/placeholder)\n",
    " * Set the shape using `n_classes` with batch size set to `None`.\n",
    " * Name the TensorFlow placeholder \"y\" using the TensorFlow `name` parameter in the [TF Placeholder](https://www.tensorflow.org/api_docs/python/tf/placeholder).\n",
    "* Implement `neural_net_keep_prob_input`\n",
    " * Return a [TF Placeholder](https://www.tensorflow.org/api_docs/python/tf/placeholder) for dropout keep probability.\n",
    " * Name the TensorFlow placeholder \"keep_prob\" using the TensorFlow `name` parameter in the [TF Placeholder](https://www.tensorflow.org/api_docs/python/tf/placeholder).\n",
    "\n",
    "These names will be used at the end of the project to load your saved model.\n",
    "\n",
    "Note: `None` for shapes in TensorFlow allow for a dynamic size."
   ]
  },
  {
   "cell_type": "code",
   "execution_count": 7,
   "metadata": {},
   "outputs": [
    {
     "name": "stdout",
     "output_type": "stream",
     "text": [
      "Image Input Tests Passed.\n",
      "Label Input Tests Passed.\n",
      "Keep Prob Tests Passed.\n"
     ]
    }
   ],
   "source": [
    "import tensorflow as tf\n",
    "\n",
    "def neural_net_image_input(image_shape):\n",
    "    \"\"\"\n",
    "    Return a Tensor for a batch of image input\n",
    "    : image_shape: Shape of the images\n",
    "    : return: Tensor for image input.\n",
    "    \"\"\"\n",
    "    return tf.placeholder(tf.float32, (None,) + image_shape, name='x')\n",
    "\n",
    "\n",
    "def neural_net_label_input(n_classes):\n",
    "    \"\"\"\n",
    "    Return a Tensor for a batch of label input\n",
    "    : n_classes: Number of classes\n",
    "    : return: Tensor for label input.\n",
    "    \"\"\"\n",
    "    return tf.placeholder(tf.float32, (None, n_classes), name='y')\n",
    "\n",
    "\n",
    "def neural_net_keep_prob_input():\n",
    "    \"\"\"\n",
    "    Return a Tensor for keep probability\n",
    "    : return: Tensor for keep probability.\n",
    "    \"\"\"\n",
    "    return tf.placeholder(tf.float32, name='keep_prob')\n",
    "\n",
    "\n",
    "\"\"\"\n",
    "DON'T MODIFY ANYTHING IN THIS CELL THAT IS BELOW THIS LINE\n",
    "\"\"\"\n",
    "tf.reset_default_graph()\n",
    "tests.test_nn_image_inputs(neural_net_image_input)\n",
    "tests.test_nn_label_inputs(neural_net_label_input)\n",
    "tests.test_nn_keep_prob_inputs(neural_net_keep_prob_input)"
   ]
  },
  {
   "cell_type": "markdown",
   "metadata": {},
   "source": [
    "### Convolution and Max Pooling Layer\n",
    "Convolution layers have a lot of success with images. For this code cell, you should implement the function `conv2d_maxpool` to apply convolution then max pooling:\n",
    "* Create the weight and bias using `conv_ksize`, `conv_num_outputs` and the shape of `x_tensor`.\n",
    "* Apply a convolution to `x_tensor` using weight and `conv_strides`.\n",
    " * We recommend you use same padding, but you're welcome to use any padding.\n",
    "* Add bias\n",
    "* Add a nonlinear activation to the convolution.\n",
    "* Apply Max Pooling using `pool_ksize` and `pool_strides`.\n",
    " * We recommend you use same padding, but you're welcome to use any padding.\n",
    "\n",
    "**Note:** You **can't** use [TensorFlow Layers](https://www.tensorflow.org/api_docs/python/tf/layers) or [TensorFlow Layers (contrib)](https://www.tensorflow.org/api_guides/python/contrib.layers) for **this** layer, but you can still use TensorFlow's [Neural Network](https://www.tensorflow.org/api_docs/python/tf/nn) package. You may still use the shortcut option for all the **other** layers."
   ]
  },
  {
   "cell_type": "code",
   "execution_count": 8,
   "metadata": {},
   "outputs": [
    {
     "name": "stdout",
     "output_type": "stream",
     "text": [
      "Tests Passed\n"
     ]
    }
   ],
   "source": [
    "# MEAN will be used for conv_filter initialization (see conv_filter function)\n",
    "MEAN = 0.0\n",
    "\n",
    "def empstddev(n):\n",
    "    return 1 / np.sqrt(n)\n",
    "\n",
    "# STDDEV will be used for conv_filter initialization (see conv_filter function)\n",
    "STDDEV = empstddev(32 * 32 * 3)\n",
    "\n",
    "# I use SAME padding\n",
    "PADDING = 'SAME'\n",
    "\n",
    "def conv_filter(input_depth, filter_shape, conv_num_outputs):\n",
    "    \"\"\"Constructs convolution filter\n",
    "    \n",
    "    Arguments:\n",
    "      - input_depth - an input channel's number (3 for RGB image)\n",
    "      - filter_shape - N-D tuple (2-D in my case) (a kernel size in other words)\n",
    "      - conv_num_outputs - a number for outputs\n",
    "      \n",
    "    Returns convolution filter's matrix.\n",
    "    \"\"\"\n",
    "    shape = filter_shape + (input_depth, conv_num_outputs)\n",
    "    return tf.Variable(tf.truncated_normal(shape, mean=MEAN, stddev=STDDEV))\n",
    "\n",
    "\n",
    "def conv2d(x, W, b, conv_strides=(1, 1), padding=PADDING):\n",
    "    \"\"\"Constructs conv2d layer\n",
    "    \n",
    "    Arguments:\n",
    "      - x - 4-D Tensor\n",
    "      - W - Filter's Tensor\n",
    "      - b - bias\n",
    "      - conv_strides - Stride 2-D tuple for convolution\n",
    "      - padding - it's padding =)\n",
    "      \n",
    "    Returns tensor\n",
    "    \n",
    "    Output's size depends on filter's shape (W).\n",
    "    \"\"\"\n",
    "    # first stride is a stride for \"batch\" dimension\n",
    "    # last stride is a stride for \"depth\" dimension\n",
    "    strides = (1,) + conv_strides + (1,)\n",
    "    conv2d_layer = tf.nn.conv2d(x, W, strides=strides, padding=padding)\n",
    "    conv2d_layer = tf.nn.bias_add(conv2d_layer, b)\n",
    "    return conv2d_layer\n",
    "\n",
    "\n",
    "def maxpool(x, ksize, pool_strides, padding=PADDING):\n",
    "    \"\"\"Constructs max pool layer\n",
    "    \n",
    "    Arguments:\n",
    "      - x - input tensor\n",
    "      - ksize - filter's size\n",
    "      - strides - pool strides\n",
    "      - padding - it's padding =)\n",
    "      \n",
    "    Returns 4-D tensor for maxpool\n",
    "    \"\"\"\n",
    "    pool_size = (1,) + ksize + (1,)\n",
    "    strides = (1,) + pool_strides + (1,)\n",
    "    return tf.nn.max_pool(x, pool_size, strides, padding)\n",
    "\n",
    "\n",
    "def conv2d_maxpool(x_tensor, conv_num_outputs, conv_ksize, conv_strides, pool_ksize, pool_strides):\n",
    "    \"\"\"\n",
    "    Apply convolution then max pooling to x_tensor\n",
    "    :param x_tensor: TensorFlow Tensor\n",
    "    :param conv_num_outputs: Number of outputs for the convolutional layer\n",
    "    :param conv_ksize: kernal size 2-D Tuple for the convolutional layer\n",
    "    :param conv_strides: Stride 2-D Tuple for convolution\n",
    "    :param pool_ksize: kernal size 2-D Tuple for pool\n",
    "    :param pool_strides: Stride 2-D Tuple for pool\n",
    "    : return: A tensor that represents convolution and max pooling of x_tensor\n",
    "    \"\"\"\n",
    "    input_depth = tf.cast(x_tensor.shape[3], tf.int32)\n",
    "    \n",
    "    conv2d_filter = conv_filter(input_depth, conv_ksize, conv_num_outputs)\n",
    "    b = tf.Variable(tf.zeros(conv_num_outputs))\n",
    "    \n",
    "    conv2d_layer = conv2d(x_tensor, conv2d_filter, b, conv_strides)\n",
    "    conv2d_layer = tf.nn.relu(conv2d_layer)\n",
    "    conv2d_layer = maxpool(conv2d_layer, pool_ksize, pool_strides)\n",
    "    \n",
    "    return conv2d_layer\n",
    "\n",
    "\n",
    "\"\"\"\n",
    "DON'T MODIFY ANYTHING IN THIS CELL THAT IS BELOW THIS LINE\n",
    "\"\"\"\n",
    "tests.test_con_pool(conv2d_maxpool)"
   ]
  },
  {
   "cell_type": "markdown",
   "metadata": {},
   "source": [
    "### Flatten Layer\n",
    "Implement the `flatten` function to change the dimension of `x_tensor` from a 4-D tensor to a 2-D tensor.  The output should be the shape (*Batch Size*, *Flattened Image Size*). Shortcut option: you can use classes from the [TensorFlow Layers](https://www.tensorflow.org/api_docs/python/tf/layers) or [TensorFlow Layers (contrib)](https://www.tensorflow.org/api_guides/python/contrib.layers) packages for this layer. For more of a challenge, only use other TensorFlow packages."
   ]
  },
  {
   "cell_type": "code",
   "execution_count": 9,
   "metadata": {},
   "outputs": [
    {
     "name": "stdout",
     "output_type": "stream",
     "text": [
      "Tests Passed\n"
     ]
    }
   ],
   "source": [
    "from operator import mul\n",
    "from functools import reduce\n",
    "\n",
    "\n",
    "def flatten_size(tensor):\n",
    "    \"\"\"Calculates flatten size for N-D tensor\"\"\"\n",
    "    shape = map(int, tensor.shape[1:])\n",
    "    return reduce(mul, shape, 1)\n",
    "\n",
    "\n",
    "def flatten(x_tensor):\n",
    "    \"\"\"\n",
    "    Flatten x_tensor to (Batch Size, Flattened Image Size)\n",
    "    : x_tensor: A tensor of size (Batch Size, ...), where ... are the image dimensions.\n",
    "    : return: A tensor of size (Batch Size, Flattened Image Size).\n",
    "    \"\"\"\n",
    "    return tf.reshape(x_tensor, [-1, flatten_size(x_tensor)])\n",
    "\n",
    "\"\"\"\n",
    "DON'T MODIFY ANYTHING IN THIS CELL THAT IS BELOW THIS LINE\n",
    "\"\"\"\n",
    "tests.test_flatten(flatten)"
   ]
  },
  {
   "cell_type": "markdown",
   "metadata": {},
   "source": [
    "### Fully-Connected Layer\n",
    "Implement the `fully_conn` function to apply a fully connected layer to `x_tensor` with the shape (*Batch Size*, *num_outputs*). Shortcut option: you can use classes from the [TensorFlow Layers](https://www.tensorflow.org/api_docs/python/tf/layers) or [TensorFlow Layers (contrib)](https://www.tensorflow.org/api_guides/python/contrib.layers) packages for this layer. For more of a challenge, only use other TensorFlow packages."
   ]
  },
  {
   "cell_type": "code",
   "execution_count": 10,
   "metadata": {},
   "outputs": [
    {
     "name": "stdout",
     "output_type": "stream",
     "text": [
      "Tests Passed\n"
     ]
    }
   ],
   "source": [
    "def fully_conn(x_tensor, num_outputs):\n",
    "    \"\"\"\n",
    "    Apply a fully connected layer to x_tensor using weight and bias\n",
    "    : x_tensor: A 2-D tensor where the first dimension is batch size.\n",
    "    : num_outputs: The number of output that the new tensor should be.\n",
    "    : return: A 2-D tensor where the second dimension is num_outputs.\n",
    "    \"\"\"\n",
    "    num_inputs = tf.cast(x_tensor.shape[1], tf.int32)\n",
    "    weights = tf.Variable(tf.truncated_normal((num_inputs, num_outputs), mean=MEAN, stddev=STDDEV))\n",
    "    bias = tf.Variable(tf.zeros(num_outputs))\n",
    "    \n",
    "    return tf.add(tf.matmul(x_tensor, weights), bias)\n",
    "\n",
    "\n",
    "\"\"\"\n",
    "DON'T MODIFY ANYTHING IN THIS CELL THAT IS BELOW THIS LINE\n",
    "\"\"\"\n",
    "tests.test_fully_conn(fully_conn)"
   ]
  },
  {
   "cell_type": "markdown",
   "metadata": {},
   "source": [
    "### Output Layer\n",
    "Implement the `output` function to apply a fully connected layer to `x_tensor` with the shape (*Batch Size*, *num_outputs*). Shortcut option: you can use classes from the [TensorFlow Layers](https://www.tensorflow.org/api_docs/python/tf/layers) or [TensorFlow Layers (contrib)](https://www.tensorflow.org/api_guides/python/contrib.layers) packages for this layer. For more of a challenge, only use other TensorFlow packages.\n",
    "\n",
    "**Note:** Activation, softmax, or cross entropy should **not** be applied to this."
   ]
  },
  {
   "cell_type": "code",
   "execution_count": 11,
   "metadata": {},
   "outputs": [
    {
     "name": "stdout",
     "output_type": "stream",
     "text": [
      "Tests Passed\n"
     ]
    }
   ],
   "source": [
    "def output(x_tensor, num_outputs):\n",
    "    \"\"\"\n",
    "    Apply a output layer to x_tensor using weight and bias\n",
    "    : x_tensor: A 2-D tensor where the first dimension is batch size.\n",
    "    : num_outputs: The number of output that the new tensor should be.\n",
    "    : return: A 2-D tensor where the second dimension is num_outputs.\n",
    "    \"\"\"\n",
    "    return fully_conn(x_tensor, num_outputs)\n",
    "\n",
    "\"\"\"\n",
    "DON'T MODIFY ANYTHING IN THIS CELL THAT IS BELOW THIS LINE\n",
    "\"\"\"\n",
    "tests.test_output(output)"
   ]
  },
  {
   "cell_type": "markdown",
   "metadata": {},
   "source": [
    "### Create Convolutional Model\n",
    "Implement the function `conv_net` to create a convolutional neural network model. The function takes in a batch of images, `x`, and outputs logits.  Use the layers you created above to create this model:\n",
    "\n",
    "* Apply 1, 2, or 3 Convolution and Max Pool layers\n",
    "* Apply a Flatten Layer\n",
    "* Apply 1, 2, or 3 Fully Connected Layers\n",
    "* Apply an Output Layer\n",
    "* Return the output\n",
    "* Apply [TensorFlow's Dropout](https://www.tensorflow.org/api_docs/python/tf/nn/dropout) to one or more layers in the model using `keep_prob`. "
   ]
  },
  {
   "cell_type": "code",
   "execution_count": 14,
   "metadata": {},
   "outputs": [
    {
     "name": "stdout",
     "output_type": "stream",
     "text": [
      "Neural Network Built!\n"
     ]
    }
   ],
   "source": [
    "cifar10_num_outputs = 10\n",
    "\n",
    "def ksize(a, b):\n",
    "    return (a, b)\n",
    "\n",
    "def strides(a, b):\n",
    "    return (a, b)\n",
    "\n",
    "def hidden_size(inputs, outputs):\n",
    "    m = min(inputs, outputs)\n",
    "    d = abs(inputs - outputs)\n",
    "    return (m + d // 2)\n",
    "\n",
    "def conv_net(x, keep_prob):\n",
    "    \"\"\"\n",
    "    Create a convolutional neural network model\n",
    "    : x: Placeholder tensor that holds image data.\n",
    "    : keep_prob: Placeholder tensor that hold dropout keep probability.\n",
    "    : return: Tensor that represents logits\n",
    "    \"\"\"\n",
    "    # Function Definition from Above:\n",
    "    #    conv2d_maxpool(x_tensor, conv_num_outputs, conv_ksize, conv_strides, pool_ksize, pool_strides)\n",
    "    # Reminder:\n",
    "    # image size is 32x32 (for cifar-10)\n",
    "    net = conv2d_maxpool(x, \n",
    "                         32,                             # output depth\n",
    "                         ksize(2, 2), strides(1, 1),     # conv\n",
    "                         ksize(2, 2), strides(1, 1))     # pool\n",
    "    net = conv2d_maxpool(net, \n",
    "                         48,                             # output depth\n",
    "                         ksize(3, 3), strides(1, 1),     # conv\n",
    "                         ksize(2, 2), strides(2, 2))     # pool  \n",
    "    net = conv2d_maxpool(net, \n",
    "                         48,                             # output depth\n",
    "                         ksize(5, 5), strides(1, 1),     # conv\n",
    "                         ksize(2, 2), strides(2, 2))     # pool  \n",
    "    \n",
    "    net = tf.nn.dropout(net, keep_prob)\n",
    "    \n",
    "    # Function Definition from Above:\n",
    "    #   flatten(x_tensor)\n",
    "    net = flatten(net)\n",
    "    \n",
    "    # Function Definition from Above:\n",
    "    #   fully_conn(x_tensor, num_outputs)\n",
    "    net = fully_conn(net, hidden_size(48, cifar10_num_outputs))\n",
    "    net = tf.nn.relu(net)\n",
    "    \n",
    "    net = output(net, cifar10_num_outputs)\n",
    "    \n",
    "    return net\n",
    "\n",
    "\n",
    "\"\"\"\n",
    "DON'T MODIFY ANYTHING IN THIS CELL THAT IS BELOW THIS LINE\n",
    "\"\"\"\n",
    "\n",
    "##############################\n",
    "## Build the Neural Network ##\n",
    "##############################\n",
    "\n",
    "# Remove previous weights, bias, inputs, etc..\n",
    "tf.reset_default_graph()\n",
    "\n",
    "# Inputs\n",
    "x = neural_net_image_input((32, 32, 3))\n",
    "y = neural_net_label_input(10)\n",
    "keep_prob = neural_net_keep_prob_input()\n",
    "\n",
    "# Model\n",
    "logits = conv_net(x, keep_prob)\n",
    "\n",
    "# Name logits Tensor, so that is can be loaded from disk after training\n",
    "logits = tf.identity(logits, name='logits')\n",
    "\n",
    "# Loss and Optimizer\n",
    "cost = tf.reduce_mean(tf.nn.softmax_cross_entropy_with_logits(logits=logits, labels=y))\n",
    "optimizer = tf.train.AdamOptimizer().minimize(cost)\n",
    "\n",
    "# Accuracy\n",
    "correct_pred = tf.equal(tf.argmax(logits, 1), tf.argmax(y, 1))\n",
    "accuracy = tf.reduce_mean(tf.cast(correct_pred, tf.float32), name='accuracy')\n",
    "\n",
    "tests.test_conv_net(conv_net)"
   ]
  },
  {
   "cell_type": "markdown",
   "metadata": {},
   "source": [
    "## Train the Neural Network\n",
    "### Single Optimization\n",
    "Implement the function `train_neural_network` to do a single optimization.  The optimization should use `optimizer` to optimize in `session` with a `feed_dict` of the following:\n",
    "* `x` for image input\n",
    "* `y` for labels\n",
    "* `keep_prob` for keep probability for dropout\n",
    "\n",
    "This function will be called for each batch, so `tf.global_variables_initializer()` has already been called.\n",
    "\n",
    "Note: Nothing needs to be returned. This function is only optimizing the neural network."
   ]
  },
  {
   "cell_type": "code",
   "execution_count": 15,
   "metadata": {},
   "outputs": [
    {
     "name": "stdout",
     "output_type": "stream",
     "text": [
      "Tests Passed\n"
     ]
    }
   ],
   "source": [
    "def train_neural_network(session, optimizer, keep_probability, feature_batch, label_batch):\n",
    "    \"\"\"\n",
    "    Optimize the session on a batch of images and labels\n",
    "    : session: Current TensorFlow session\n",
    "    : optimizer: TensorFlow optimizer function\n",
    "    : keep_probability: keep probability\n",
    "    : feature_batch: Batch of Numpy image data\n",
    "    : label_batch: Batch of Numpy label data\n",
    "    \"\"\"\n",
    "    feed_dict = {x: feature_batch, y: label_batch, keep_prob: keep_probability}\n",
    "    session.run(optimizer, feed_dict=feed_dict)\n",
    "\n",
    "\n",
    "\"\"\"\n",
    "DON'T MODIFY ANYTHING IN THIS CELL THAT IS BELOW THIS LINE\n",
    "\"\"\"\n",
    "tests.test_train_nn(train_neural_network)"
   ]
  },
  {
   "cell_type": "markdown",
   "metadata": {},
   "source": [
    "### Show Stats\n",
    "Implement the function `print_stats` to print loss and validation accuracy.  Use the global variables `valid_features` and `valid_labels` to calculate validation accuracy.  Use a keep probability of `1.0` to calculate the loss and validation accuracy."
   ]
  },
  {
   "cell_type": "code",
   "execution_count": 16,
   "metadata": {
    "collapsed": true
   },
   "outputs": [],
   "source": [
    "def print_stats(session, feature_batch, label_batch, cost, accuracy):\n",
    "    \"\"\"\n",
    "    Print information about loss and validation accuracy\n",
    "    : session: Current TensorFlow session\n",
    "    : feature_batch: Batch of Numpy image data\n",
    "    : label_batch: Batch of Numpy label data\n",
    "    : cost: TensorFlow cost function\n",
    "    : accuracy: TensorFlow accuracy function\n",
    "    \"\"\"\n",
    "    feed_dict = {x: feature_batch, y: label_batch, keep_prob: 1.0}\n",
    "    cost_value = session.run(cost, feed_dict=feed_dict)\n",
    "    accuracy_value = session.run(accuracy, feed_dict=feed_dict)\n",
    "    print(\"Validation loss: {}; Accuracy: {}\".format(cost_value, accuracy_value))"
   ]
  },
  {
   "cell_type": "markdown",
   "metadata": {},
   "source": [
    "### Hyperparameters\n",
    "Tune the following parameters:\n",
    "* Set `epochs` to the number of iterations until the network stops learning or start overfitting\n",
    "* Set `batch_size` to the highest number that your machine has memory for.  Most people set them to common sizes of memory:\n",
    " * 64\n",
    " * 128\n",
    " * 256\n",
    " * ...\n",
    "* Set `keep_probability` to the probability of keeping a node using dropout"
   ]
  },
  {
   "cell_type": "code",
   "execution_count": 17,
   "metadata": {
    "collapsed": true
   },
   "outputs": [],
   "source": [
    "# TODO: Tune Parameters\n",
    "epochs = 25\n",
    "batch_size = 256\n",
    "keep_probability = 0.8"
   ]
  },
  {
   "cell_type": "markdown",
   "metadata": {},
   "source": [
    "### Train on a Single CIFAR-10 Batch\n",
    "Instead of training the neural network on all the CIFAR-10 batches of data, let's use a single batch. This should save time while you iterate on the model to get a better accuracy.  Once the final validation accuracy is 50% or greater, run the model on all the data in the next section."
   ]
  },
  {
   "cell_type": "code",
   "execution_count": 18,
   "metadata": {},
   "outputs": [
    {
     "name": "stdout",
     "output_type": "stream",
     "text": [
      "Checking the Training on a Single Batch...\n",
      "Epoch  1, CIFAR-10 Batch 1:  Validation loss: 2.268310785293579; Accuracy: 0.125\n",
      "Epoch  2, CIFAR-10 Batch 1:  Validation loss: 2.190084934234619; Accuracy: 0.20000000298023224\n",
      "Epoch  3, CIFAR-10 Batch 1:  Validation loss: 2.1991686820983887; Accuracy: 0.17500001192092896\n",
      "Epoch  4, CIFAR-10 Batch 1:  Validation loss: 2.1346676349639893; Accuracy: 0.25\n",
      "Epoch  5, CIFAR-10 Batch 1:  Validation loss: 2.0048828125; Accuracy: 0.3500000238418579\n",
      "Epoch  6, CIFAR-10 Batch 1:  Validation loss: 1.8376575708389282; Accuracy: 0.375\n",
      "Epoch  7, CIFAR-10 Batch 1:  Validation loss: 1.7267698049545288; Accuracy: 0.42499998211860657\n",
      "Epoch  8, CIFAR-10 Batch 1:  Validation loss: 1.5898833274841309; Accuracy: 0.44999998807907104\n",
      "Epoch  9, CIFAR-10 Batch 1:  Validation loss: 1.5203609466552734; Accuracy: 0.4750000238418579\n",
      "Epoch 10, CIFAR-10 Batch 1:  Validation loss: 1.4516880512237549; Accuracy: 0.5250000357627869\n",
      "Epoch 11, CIFAR-10 Batch 1:  Validation loss: 1.377632737159729; Accuracy: 0.550000011920929\n",
      "Epoch 12, CIFAR-10 Batch 1:  Validation loss: 1.3329696655273438; Accuracy: 0.5750000476837158\n",
      "Epoch 13, CIFAR-10 Batch 1:  Validation loss: 1.2737674713134766; Accuracy: 0.5750000476837158\n",
      "Epoch 14, CIFAR-10 Batch 1:  Validation loss: 1.2261528968811035; Accuracy: 0.6499999761581421\n",
      "Epoch 15, CIFAR-10 Batch 1:  Validation loss: 1.172196388244629; Accuracy: 0.6749999523162842\n",
      "Epoch 16, CIFAR-10 Batch 1:  Validation loss: 1.140194296836853; Accuracy: 0.625\n",
      "Epoch 17, CIFAR-10 Batch 1:  Validation loss: 1.1026713848114014; Accuracy: 0.7000000476837158\n",
      "Epoch 18, CIFAR-10 Batch 1:  Validation loss: 1.0555551052093506; Accuracy: 0.7000000476837158\n",
      "Epoch 19, CIFAR-10 Batch 1:  Validation loss: 1.017927885055542; Accuracy: 0.7250000238418579\n",
      "Epoch 20, CIFAR-10 Batch 1:  Validation loss: 0.9896441698074341; Accuracy: 0.75\n",
      "Epoch 21, CIFAR-10 Batch 1:  Validation loss: 0.9617106914520264; Accuracy: 0.7749999761581421\n",
      "Epoch 22, CIFAR-10 Batch 1:  Validation loss: 0.9041481018066406; Accuracy: 0.8000000715255737\n",
      "Epoch 23, CIFAR-10 Batch 1:  Validation loss: 0.87775057554245; Accuracy: 0.7749999761581421\n",
      "Epoch 24, CIFAR-10 Batch 1:  Validation loss: 0.8370858430862427; Accuracy: 0.8000000715255737\n",
      "Epoch 25, CIFAR-10 Batch 1:  Validation loss: 0.7989049553871155; Accuracy: 0.8000000715255737\n"
     ]
    }
   ],
   "source": [
    "\"\"\"\n",
    "DON'T MODIFY ANYTHING IN THIS CELL\n",
    "\"\"\"\n",
    "print('Checking the Training on a Single Batch...')\n",
    "with tf.Session() as sess:\n",
    "    # Initializing the variables\n",
    "    sess.run(tf.global_variables_initializer())\n",
    "    \n",
    "    # Training cycle\n",
    "    for epoch in range(epochs):\n",
    "        batch_i = 1\n",
    "        for batch_features, batch_labels in helper.load_preprocess_training_batch(batch_i, batch_size):\n",
    "            train_neural_network(sess, optimizer, keep_probability, batch_features, batch_labels)\n",
    "        print('Epoch {:>2}, CIFAR-10 Batch {}:  '.format(epoch + 1, batch_i), end='')\n",
    "        print_stats(sess, batch_features, batch_labels, cost, accuracy)"
   ]
  },
  {
   "cell_type": "markdown",
   "metadata": {},
   "source": [
    "### Fully Train the Model\n",
    "Now that you got a good accuracy with a single CIFAR-10 batch, try it with all five batches."
   ]
  },
  {
   "cell_type": "code",
   "execution_count": 19,
   "metadata": {},
   "outputs": [
    {
     "name": "stdout",
     "output_type": "stream",
     "text": [
      "Training...\n",
      "Epoch  1, CIFAR-10 Batch 1:  Validation loss: 2.2013421058654785; Accuracy: 0.17500001192092896\n",
      "Epoch  1, CIFAR-10 Batch 2:  Validation loss: 2.1055796146392822; Accuracy: 0.22500000894069672\n",
      "Epoch  1, CIFAR-10 Batch 3:  Validation loss: 1.8791446685791016; Accuracy: 0.375\n",
      "Epoch  1, CIFAR-10 Batch 4:  Validation loss: 1.959110140800476; Accuracy: 0.2750000059604645\n",
      "Epoch  1, CIFAR-10 Batch 5:  Validation loss: 1.8486697673797607; Accuracy: 0.30000001192092896\n",
      "Epoch  2, CIFAR-10 Batch 1:  Validation loss: 2.2366013526916504; Accuracy: 0.22500000894069672\n",
      "Epoch  2, CIFAR-10 Batch 2:  Validation loss: 1.90995454788208; Accuracy: 0.32500001788139343\n",
      "Epoch  2, CIFAR-10 Batch 3:  Validation loss: 1.5117573738098145; Accuracy: 0.45000001788139343\n",
      "Epoch  2, CIFAR-10 Batch 4:  Validation loss: 1.6702300310134888; Accuracy: 0.32500001788139343\n",
      "Epoch  2, CIFAR-10 Batch 5:  Validation loss: 1.679384469985962; Accuracy: 0.3499999940395355\n",
      "Epoch  3, CIFAR-10 Batch 1:  Validation loss: 2.0131747722625732; Accuracy: 0.375\n",
      "Epoch  3, CIFAR-10 Batch 2:  Validation loss: 1.6193742752075195; Accuracy: 0.375\n",
      "Epoch  3, CIFAR-10 Batch 3:  Validation loss: 1.268816590309143; Accuracy: 0.6000000238418579\n",
      "Epoch  3, CIFAR-10 Batch 4:  Validation loss: 1.5225656032562256; Accuracy: 0.375\n",
      "Epoch  3, CIFAR-10 Batch 5:  Validation loss: 1.5417625904083252; Accuracy: 0.44999998807907104\n",
      "Epoch  4, CIFAR-10 Batch 1:  Validation loss: 1.777602195739746; Accuracy: 0.4000000059604645\n",
      "Epoch  4, CIFAR-10 Batch 2:  Validation loss: 1.5056339502334595; Accuracy: 0.4750000238418579\n",
      "Epoch  4, CIFAR-10 Batch 3:  Validation loss: 1.1675536632537842; Accuracy: 0.625\n",
      "Epoch  4, CIFAR-10 Batch 4:  Validation loss: 1.415166974067688; Accuracy: 0.44999998807907104\n",
      "Epoch  4, CIFAR-10 Batch 5:  Validation loss: 1.4291433095932007; Accuracy: 0.5249999761581421\n",
      "Epoch  5, CIFAR-10 Batch 1:  Validation loss: 1.6393760442733765; Accuracy: 0.42500001192092896\n",
      "Epoch  5, CIFAR-10 Batch 2:  Validation loss: 1.4090173244476318; Accuracy: 0.4000000059604645\n",
      "Epoch  5, CIFAR-10 Batch 3:  Validation loss: 1.1020467281341553; Accuracy: 0.625\n",
      "Epoch  5, CIFAR-10 Batch 4:  Validation loss: 1.3394485712051392; Accuracy: 0.550000011920929\n",
      "Epoch  5, CIFAR-10 Batch 5:  Validation loss: 1.3852519989013672; Accuracy: 0.5750000476837158\n",
      "Epoch  6, CIFAR-10 Batch 1:  Validation loss: 1.5296076536178589; Accuracy: 0.5\n",
      "Epoch  6, CIFAR-10 Batch 2:  Validation loss: 1.3218759298324585; Accuracy: 0.5750000476837158\n",
      "Epoch  6, CIFAR-10 Batch 3:  Validation loss: 1.088287353515625; Accuracy: 0.625\n",
      "Epoch  6, CIFAR-10 Batch 4:  Validation loss: 1.2544562816619873; Accuracy: 0.574999988079071\n",
      "Epoch  6, CIFAR-10 Batch 5:  Validation loss: 1.3216667175292969; Accuracy: 0.625\n",
      "Epoch  7, CIFAR-10 Batch 1:  Validation loss: 1.4295451641082764; Accuracy: 0.5249999761581421\n",
      "Epoch  7, CIFAR-10 Batch 2:  Validation loss: 1.2177932262420654; Accuracy: 0.550000011920929\n",
      "Epoch  7, CIFAR-10 Batch 3:  Validation loss: 1.0471597909927368; Accuracy: 0.6000000238418579\n",
      "Epoch  7, CIFAR-10 Batch 4:  Validation loss: 1.1547603607177734; Accuracy: 0.625\n",
      "Epoch  7, CIFAR-10 Batch 5:  Validation loss: 1.2491105794906616; Accuracy: 0.6000000238418579\n",
      "Epoch  8, CIFAR-10 Batch 1:  Validation loss: 1.2960619926452637; Accuracy: 0.574999988079071\n",
      "Epoch  8, CIFAR-10 Batch 2:  Validation loss: 1.1037933826446533; Accuracy: 0.5750000476837158\n",
      "Epoch  8, CIFAR-10 Batch 3:  Validation loss: 0.9889084100723267; Accuracy: 0.625\n",
      "Epoch  8, CIFAR-10 Batch 4:  Validation loss: 1.0745115280151367; Accuracy: 0.7250000238418579\n",
      "Epoch  8, CIFAR-10 Batch 5:  Validation loss: 1.1640311479568481; Accuracy: 0.6000000238418579\n",
      "Epoch  9, CIFAR-10 Batch 1:  Validation loss: 1.1865156888961792; Accuracy: 0.6000000238418579\n",
      "Epoch  9, CIFAR-10 Batch 2:  Validation loss: 1.0366301536560059; Accuracy: 0.6000000238418579\n",
      "Epoch  9, CIFAR-10 Batch 3:  Validation loss: 0.8488584756851196; Accuracy: 0.7000000476837158\n",
      "Epoch  9, CIFAR-10 Batch 4:  Validation loss: 0.9811110496520996; Accuracy: 0.7000000476837158\n",
      "Epoch  9, CIFAR-10 Batch 5:  Validation loss: 1.1121281385421753; Accuracy: 0.550000011920929\n",
      "Epoch 10, CIFAR-10 Batch 1:  Validation loss: 1.1135978698730469; Accuracy: 0.6750000715255737\n",
      "Epoch 10, CIFAR-10 Batch 2:  Validation loss: 1.003933310508728; Accuracy: 0.625\n",
      "Epoch 10, CIFAR-10 Batch 3:  Validation loss: 0.7597686648368835; Accuracy: 0.75\n",
      "Epoch 10, CIFAR-10 Batch 4:  Validation loss: 0.9409223794937134; Accuracy: 0.7000000476837158\n",
      "Epoch 10, CIFAR-10 Batch 5:  Validation loss: 1.0482203960418701; Accuracy: 0.6000000238418579\n",
      "Epoch 11, CIFAR-10 Batch 1:  Validation loss: 1.028146743774414; Accuracy: 0.6499999761581421\n",
      "Epoch 11, CIFAR-10 Batch 2:  Validation loss: 0.8915039896965027; Accuracy: 0.699999988079071\n",
      "Epoch 11, CIFAR-10 Batch 3:  Validation loss: 0.7200759649276733; Accuracy: 0.75\n",
      "Epoch 11, CIFAR-10 Batch 4:  Validation loss: 0.8810096979141235; Accuracy: 0.7250000238418579\n",
      "Epoch 11, CIFAR-10 Batch 5:  Validation loss: 0.9752088189125061; Accuracy: 0.6499999761581421\n",
      "Epoch 12, CIFAR-10 Batch 1:  Validation loss: 0.9324407577514648; Accuracy: 0.7000000476837158\n",
      "Epoch 12, CIFAR-10 Batch 2:  Validation loss: 0.8595231771469116; Accuracy: 0.7000000476837158\n",
      "Epoch 12, CIFAR-10 Batch 3:  Validation loss: 0.6573670506477356; Accuracy: 0.800000011920929\n",
      "Epoch 12, CIFAR-10 Batch 4:  Validation loss: 0.8206206560134888; Accuracy: 0.75\n",
      "Epoch 12, CIFAR-10 Batch 5:  Validation loss: 0.8889567852020264; Accuracy: 0.7000000476837158\n",
      "Epoch 13, CIFAR-10 Batch 1:  Validation loss: 0.8533758521080017; Accuracy: 0.7749999761581421\n",
      "Epoch 13, CIFAR-10 Batch 2:  Validation loss: 0.8368160128593445; Accuracy: 0.7500000596046448\n",
      "Epoch 13, CIFAR-10 Batch 3:  Validation loss: 0.5788651704788208; Accuracy: 0.800000011920929\n",
      "Epoch 13, CIFAR-10 Batch 4:  Validation loss: 0.7659854888916016; Accuracy: 0.7749999761581421\n",
      "Epoch 13, CIFAR-10 Batch 5:  Validation loss: 0.8217315077781677; Accuracy: 0.7749999761581421\n",
      "Epoch 14, CIFAR-10 Batch 1:  Validation loss: 0.7992081046104431; Accuracy: 0.8000000715255737\n",
      "Epoch 14, CIFAR-10 Batch 2:  Validation loss: 0.7989319562911987; Accuracy: 0.7500000596046448\n",
      "Epoch 14, CIFAR-10 Batch 3:  Validation loss: 0.5347155928611755; Accuracy: 0.7750000357627869\n",
      "Epoch 14, CIFAR-10 Batch 4:  Validation loss: 0.7056968212127686; Accuracy: 0.7749999761581421\n",
      "Epoch 14, CIFAR-10 Batch 5:  Validation loss: 0.821121871471405; Accuracy: 0.75\n",
      "Epoch 15, CIFAR-10 Batch 1:  Validation loss: 0.7593711018562317; Accuracy: 0.8000000715255737\n",
      "Epoch 15, CIFAR-10 Batch 2:  Validation loss: 0.7744011878967285; Accuracy: 0.7750000357627869\n",
      "Epoch 15, CIFAR-10 Batch 3:  Validation loss: 0.5021105408668518; Accuracy: 0.800000011920929\n",
      "Epoch 15, CIFAR-10 Batch 4:  Validation loss: 0.6681346297264099; Accuracy: 0.7749999761581421\n",
      "Epoch 15, CIFAR-10 Batch 5:  Validation loss: 0.768619179725647; Accuracy: 0.7749999761581421\n",
      "Epoch 16, CIFAR-10 Batch 1:  Validation loss: 0.7279937267303467; Accuracy: 0.8000000715255737\n",
      "Epoch 16, CIFAR-10 Batch 2:  Validation loss: 0.7344881296157837; Accuracy: 0.7750000357627869\n",
      "Epoch 16, CIFAR-10 Batch 3:  Validation loss: 0.46824154257774353; Accuracy: 0.824999988079071\n",
      "Epoch 16, CIFAR-10 Batch 4:  Validation loss: 0.6089709997177124; Accuracy: 0.7749999761581421\n",
      "Epoch 16, CIFAR-10 Batch 5:  Validation loss: 0.6660338640213013; Accuracy: 0.7750000357627869\n",
      "Epoch 17, CIFAR-10 Batch 1:  Validation loss: 0.7118586897850037; Accuracy: 0.8000000715255737\n",
      "Epoch 17, CIFAR-10 Batch 2:  Validation loss: 0.7113121151924133; Accuracy: 0.7750000357627869\n",
      "Epoch 17, CIFAR-10 Batch 3:  Validation loss: 0.44221165776252747; Accuracy: 0.8499999642372131\n",
      "Epoch 17, CIFAR-10 Batch 4:  Validation loss: 0.5729961395263672; Accuracy: 0.7749999761581421\n",
      "Epoch 17, CIFAR-10 Batch 5:  Validation loss: 0.6534633636474609; Accuracy: 0.800000011920929\n",
      "Epoch 18, CIFAR-10 Batch 1:  Validation loss: 0.6975607872009277; Accuracy: 0.8000000715255737\n",
      "Epoch 18, CIFAR-10 Batch 2:  Validation loss: 0.6292462944984436; Accuracy: 0.8250000476837158\n",
      "Epoch 18, CIFAR-10 Batch 3:  Validation loss: 0.42453938722610474; Accuracy: 0.8750000596046448\n"
     ]
    },
    {
     "name": "stdout",
     "output_type": "stream",
     "text": [
      "Epoch 18, CIFAR-10 Batch 4:  Validation loss: 0.5339799523353577; Accuracy: 0.8500000238418579\n",
      "Epoch 18, CIFAR-10 Batch 5:  Validation loss: 0.6034624576568604; Accuracy: 0.8250000476837158\n",
      "Epoch 19, CIFAR-10 Batch 1:  Validation loss: 0.6514600515365601; Accuracy: 0.8000000715255737\n",
      "Epoch 19, CIFAR-10 Batch 2:  Validation loss: 0.6165886521339417; Accuracy: 0.8250000476837158\n",
      "Epoch 19, CIFAR-10 Batch 3:  Validation loss: 0.38967904448509216; Accuracy: 0.8750000596046448\n",
      "Epoch 19, CIFAR-10 Batch 4:  Validation loss: 0.49833518266677856; Accuracy: 0.8250000476837158\n",
      "Epoch 19, CIFAR-10 Batch 5:  Validation loss: 0.5586295127868652; Accuracy: 0.8500000238418579\n",
      "Epoch 20, CIFAR-10 Batch 1:  Validation loss: 0.6557464003562927; Accuracy: 0.7749999761581421\n",
      "Epoch 20, CIFAR-10 Batch 2:  Validation loss: 0.6031228303909302; Accuracy: 0.8750000596046448\n",
      "Epoch 20, CIFAR-10 Batch 3:  Validation loss: 0.3661095201969147; Accuracy: 0.9000000357627869\n",
      "Epoch 20, CIFAR-10 Batch 4:  Validation loss: 0.4602375626564026; Accuracy: 0.8750000596046448\n",
      "Epoch 20, CIFAR-10 Batch 5:  Validation loss: 0.5398021936416626; Accuracy: 0.8250000476837158\n",
      "Epoch 21, CIFAR-10 Batch 1:  Validation loss: 0.6240913271903992; Accuracy: 0.7999999523162842\n",
      "Epoch 21, CIFAR-10 Batch 2:  Validation loss: 0.5400395393371582; Accuracy: 0.8500000238418579\n",
      "Epoch 21, CIFAR-10 Batch 3:  Validation loss: 0.33981794118881226; Accuracy: 0.9000000357627869\n",
      "Epoch 21, CIFAR-10 Batch 4:  Validation loss: 0.45279330015182495; Accuracy: 0.8750000596046448\n",
      "Epoch 21, CIFAR-10 Batch 5:  Validation loss: 0.5083377957344055; Accuracy: 0.875\n",
      "Epoch 22, CIFAR-10 Batch 1:  Validation loss: 0.626488447189331; Accuracy: 0.7749999761581421\n",
      "Epoch 22, CIFAR-10 Batch 2:  Validation loss: 0.5128303170204163; Accuracy: 0.8750000596046448\n",
      "Epoch 22, CIFAR-10 Batch 3:  Validation loss: 0.3373245894908905; Accuracy: 0.9000000357627869\n",
      "Epoch 22, CIFAR-10 Batch 4:  Validation loss: 0.441067636013031; Accuracy: 0.9000000357627869\n",
      "Epoch 22, CIFAR-10 Batch 5:  Validation loss: 0.5089008808135986; Accuracy: 0.8500000238418579\n",
      "Epoch 23, CIFAR-10 Batch 1:  Validation loss: 0.5840308666229248; Accuracy: 0.7749999761581421\n",
      "Epoch 23, CIFAR-10 Batch 2:  Validation loss: 0.46438920497894287; Accuracy: 0.9000000357627869\n",
      "Epoch 23, CIFAR-10 Batch 3:  Validation loss: 0.3110087811946869; Accuracy: 0.9000000357627869\n",
      "Epoch 23, CIFAR-10 Batch 4:  Validation loss: 0.42582976818084717; Accuracy: 0.9000000357627869\n",
      "Epoch 23, CIFAR-10 Batch 5:  Validation loss: 0.46075230836868286; Accuracy: 0.8500000238418579\n",
      "Epoch 24, CIFAR-10 Batch 1:  Validation loss: 0.5390480756759644; Accuracy: 0.8500000238418579\n",
      "Epoch 24, CIFAR-10 Batch 2:  Validation loss: 0.46895474195480347; Accuracy: 0.8750000596046448\n",
      "Epoch 24, CIFAR-10 Batch 3:  Validation loss: 0.29960960149765015; Accuracy: 0.925000011920929\n",
      "Epoch 24, CIFAR-10 Batch 4:  Validation loss: 0.3870435059070587; Accuracy: 0.925000011920929\n",
      "Epoch 24, CIFAR-10 Batch 5:  Validation loss: 0.46893513202667236; Accuracy: 0.875\n",
      "Epoch 25, CIFAR-10 Batch 1:  Validation loss: 0.5515880584716797; Accuracy: 0.8500000238418579\n",
      "Epoch 25, CIFAR-10 Batch 2:  Validation loss: 0.44270437955856323; Accuracy: 0.9000000357627869\n",
      "Epoch 25, CIFAR-10 Batch 3:  Validation loss: 0.2788209915161133; Accuracy: 0.949999988079071\n",
      "Epoch 25, CIFAR-10 Batch 4:  Validation loss: 0.41269582509994507; Accuracy: 0.8999999761581421\n",
      "Epoch 25, CIFAR-10 Batch 5:  Validation loss: 0.41087138652801514; Accuracy: 0.875\n"
     ]
    }
   ],
   "source": [
    "\"\"\"\n",
    "DON'T MODIFY ANYTHING IN THIS CELL\n",
    "\"\"\"\n",
    "save_model_path = './image_classification'\n",
    "\n",
    "print('Training...')\n",
    "with tf.Session() as sess:\n",
    "    # Initializing the variables\n",
    "    sess.run(tf.global_variables_initializer())\n",
    "    \n",
    "    # Training cycle\n",
    "    for epoch in range(epochs):\n",
    "        # Loop over all batches\n",
    "        n_batches = 5\n",
    "        for batch_i in range(1, n_batches + 1):\n",
    "            for batch_features, batch_labels in helper.load_preprocess_training_batch(batch_i, batch_size):\n",
    "                train_neural_network(sess, optimizer, keep_probability, batch_features, batch_labels)\n",
    "            print('Epoch {:>2}, CIFAR-10 Batch {}:  '.format(epoch + 1, batch_i), end='')\n",
    "            print_stats(sess, batch_features, batch_labels, cost, accuracy)\n",
    "            \n",
    "    # Save Model\n",
    "    saver = tf.train.Saver()\n",
    "    save_path = saver.save(sess, save_model_path)"
   ]
  },
  {
   "cell_type": "markdown",
   "metadata": {},
   "source": [
    "# Checkpoint\n",
    "The model has been saved to disk.\n",
    "## Test Model\n",
    "Test your model against the test dataset.  This will be your final accuracy. You should have an accuracy greater than 50%. If you don't, keep tweaking the model architecture and parameters."
   ]
  },
  {
   "cell_type": "code",
   "execution_count": 22,
   "metadata": {},
   "outputs": [
    {
     "name": "stdout",
     "output_type": "stream",
     "text": [
      "Testing Accuracy: 0.69501953125\n",
      "\n"
     ]
    },
    {
     "data": {
      "image/png": "[encoded data removed]",
      "text/plain": [
       "<matplotlib.figure.Figure at 0x1c39ecb7c50>"
      ]
     },
     "metadata": {
      "image/png": {
       "height": 319,
       "width": 355
      }
     },
     "output_type": "display_data"
    }
   ],
   "source": [
    "\"\"\"\n",
    "DON'T MODIFY ANYTHING IN THIS CELL\n",
    "\"\"\"\n",
    "%matplotlib inline\n",
    "%config InlineBackend.figure_format = 'retina'\n",
    "\n",
    "import tensorflow as tf\n",
    "import pickle\n",
    "import helper\n",
    "import random\n",
    "\n",
    "# Set batch size if not already set\n",
    "try:\n",
    "    if batch_size:\n",
    "        pass\n",
    "except NameError:\n",
    "    batch_size = 64\n",
    "\n",
    "save_model_path = './image_classification'\n",
    "n_samples = 4\n",
    "top_n_predictions = 3\n",
    "\n",
    "def test_model():\n",
    "    \"\"\"\n",
    "    Test the saved model against the test dataset\n",
    "    \"\"\"\n",
    "\n",
    "    test_features, test_labels = pickle.load(open('preprocess_test.p', mode='rb'))\n",
    "    loaded_graph = tf.Graph()\n",
    "\n",
    "    with tf.Session(graph=loaded_graph) as sess:\n",
    "        # Load model\n",
    "        loader = tf.train.import_meta_graph(save_model_path + '.meta')\n",
    "        loader.restore(sess, save_model_path)\n",
    "\n",
    "        # Get Tensors from loaded model\n",
    "        loaded_x = loaded_graph.get_tensor_by_name('x:0')\n",
    "        loaded_y = loaded_graph.get_tensor_by_name('y:0')\n",
    "        loaded_keep_prob = loaded_graph.get_tensor_by_name('keep_prob:0')\n",
    "        loaded_logits = loaded_graph.get_tensor_by_name('logits:0')\n",
    "        loaded_acc = loaded_graph.get_tensor_by_name('accuracy:0')\n",
    "        \n",
    "        # Get accuracy in batches for memory limitations\n",
    "        test_batch_acc_total = 0\n",
    "        test_batch_count = 0\n",
    "        \n",
    "        for test_feature_batch, test_label_batch in helper.batch_features_labels(test_features, test_labels, batch_size):\n",
    "            test_batch_acc_total += sess.run(\n",
    "                loaded_acc,\n",
    "                feed_dict={loaded_x: test_feature_batch, loaded_y: test_label_batch, loaded_keep_prob: 1.0})\n",
    "            test_batch_count += 1\n",
    "\n",
    "        print('Testing Accuracy: {}\\n'.format(test_batch_acc_total/test_batch_count))\n",
    "\n",
    "        # Print Random Samples\n",
    "        random_test_features, random_test_labels = tuple(zip(*random.sample(list(zip(test_features, test_labels)), n_samples)))\n",
    "        random_test_predictions = sess.run(\n",
    "            tf.nn.top_k(tf.nn.softmax(loaded_logits), top_n_predictions),\n",
    "            feed_dict={loaded_x: random_test_features, loaded_y: random_test_labels, loaded_keep_prob: 1.0})\n",
    "        helper.display_image_predictions(random_test_features, random_test_labels, random_test_predictions)\n",
    "\n",
    "\n",
    "test_model()"
   ]
  },
  {
   "cell_type": "markdown",
   "metadata": {},
   "source": [
    "## Why 50-80% Accuracy?\n",
    "You might be wondering why you can't get an accuracy any higher. First things first, 50% isn't bad for a simple CNN.  Pure guessing would get you 10% accuracy. However, you might notice people are getting scores [well above 80%](http://rodrigob.github.io/are_we_there_yet/build/classification_datasets_results.html#43494641522d3130).  That's because we haven't taught you all there is to know about neural networks. We still need to cover a few more techniques.\n",
    "## Submitting This Project\n",
    "When submitting this project, make sure to run all the cells before saving the notebook.  Save the notebook file as \"dlnd_image_classification.ipynb\" and save it as a HTML file under \"File\" -> \"Download as\".  Include the \"helper.py\" and \"problem_unittests.py\" files in your submission."
   ]
  }
 ],
 "metadata": {
  "kernelspec": {
   "display_name": "Python 3",
   "language": "python",
   "name": "python3"
  },
  "language_info": {
   "codemirror_mode": {
    "name": "ipython",
    "version": 3
   },
   "file_extension": ".py",
   "mimetype": "text/x-python",
   "name": "python",
   "nbconvert_exporter": "python",
   "pygments_lexer": "ipython3",
   "version": "3.5.3"
  }
 },
 "nbformat": 4,
 "nbformat_minor": 1
}
