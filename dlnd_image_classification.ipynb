{
 "cells": [
  {
   "cell_type": "markdown",
   "metadata": {
    "collapsed": true
   },
   "source": [
    "# Image Classification\n",
    "In this project, you'll classify images from the [CIFAR-10 dataset](https://www.cs.toronto.edu/~kriz/cifar.html).  The dataset consists of airplanes, dogs, cats, and other objects. You'll preprocess the images, then train a convolutional neural network on all the samples. The images need to be normalized and the labels need to be one-hot encoded.  You'll get to apply what you learned and build a convolutional, max pooling, dropout, and fully connected layers.  At the end, you'll get to see your neural network's predictions on the sample images.\n",
    "## Get the Data\n",
    "Run the following cell to download the [CIFAR-10 dataset for python](https://www.cs.toronto.edu/~kriz/cifar-10-python.tar.gz)."
   ]
  },
  {
   "cell_type": "code",
   "execution_count": 2,
   "metadata": {},
   "outputs": [
    {
     "name": "stdout",
     "output_type": "stream",
     "text": [
      "All files found!\n"
     ]
    }
   ],
   "source": [
    "\"\"\"\n",
    "DON'T MODIFY ANYTHING IN THIS CELL THAT IS BELOW THIS LINE\n",
    "\"\"\"\n",
    "from urllib.request import urlretrieve\n",
    "from os.path import isfile, isdir\n",
    "from tqdm import tqdm\n",
    "import problem_unittests as tests\n",
    "import tarfile\n",
    "\n",
    "cifar10_dataset_folder_path = 'cifar-10-batches-py'\n",
    "\n",
    "# Use Floyd's cifar-10 dataset if present\n",
    "floyd_cifar10_location = '/input/cifar-10/python.tar.gz'\n",
    "if isfile(floyd_cifar10_location):\n",
    "    tar_gz_path = floyd_cifar10_location\n",
    "else:\n",
    "    tar_gz_path = 'cifar-10-python.tar.gz'\n",
    "\n",
    "class DLProgress(tqdm):\n",
    "    last_block = 0\n",
    "\n",
    "    def hook(self, block_num=1, block_size=1, total_size=None):\n",
    "        self.total = total_size\n",
    "        self.update((block_num - self.last_block) * block_size)\n",
    "        self.last_block = block_num\n",
    "\n",
    "if not isfile(tar_gz_path):\n",
    "    with DLProgress(unit='B', unit_scale=True, miniters=1, desc='CIFAR-10 Dataset') as pbar:\n",
    "        urlretrieve(\n",
    "            'https://www.cs.toronto.edu/~kriz/cifar-10-python.tar.gz',\n",
    "            tar_gz_path,\n",
    "            pbar.hook)\n",
    "\n",
    "if not isdir(cifar10_dataset_folder_path):\n",
    "    with tarfile.open(tar_gz_path) as tar:\n",
    "        tar.extractall()\n",
    "        tar.close()\n",
    "\n",
    "\n",
    "tests.test_folder_path(cifar10_dataset_folder_path)"
   ]
  },
  {
   "cell_type": "markdown",
   "metadata": {},
   "source": [
    "## Explore the Data\n",
    "The dataset is broken into batches to prevent your machine from running out of memory.  The CIFAR-10 dataset consists of 5 batches, named `data_batch_1`, `data_batch_2`, etc.. Each batch contains the labels and images that are one of the following:\n",
    "* airplane\n",
    "* automobile\n",
    "* bird\n",
    "* cat\n",
    "* deer\n",
    "* dog\n",
    "* frog\n",
    "* horse\n",
    "* ship\n",
    "* truck\n",
    "\n",
    "Understanding a dataset is part of making predictions on the data.  Play around with the code cell below by changing the `batch_id` and `sample_id`. The `batch_id` is the id for a batch (1-5). The `sample_id` is the id for a image and label pair in the batch.\n",
    "\n",
    "Ask yourself \"What are all possible labels?\", \"What is the range of values for the image data?\", \"Are the labels in order or random?\".  Answers to questions like these will help you preprocess the data and end up with better predictions."
   ]
  },
  {
   "cell_type": "code",
   "execution_count": 3,
   "metadata": {},
   "outputs": [
    {
     "name": "stdout",
     "output_type": "stream",
     "text": [
      "\n",
      "Stats of batch 1:\n",
      "Samples: 10000\n",
      "Label Counts: {0: 1005, 1: 974, 2: 1032, 3: 1016, 4: 999, 5: 937, 6: 1030, 7: 1001, 8: 1025, 9: 981}\n",
      "First 20 Labels: [6, 9, 9, 4, 1, 1, 2, 7, 8, 3, 4, 7, 7, 2, 9, 9, 9, 3, 2, 6]\n",
      "\n",
      "Example of Image 25:\n",
      "Image - Min Value: 30 Max Value: 255\n",
      "Image - Shape: (32, 32, 3)\n",
      "Label - Label Id: 6 Name: frog\n"
     ]
    },
    {
     "data": {
      "image/png": "[encoded data removed]",
      "text/plain": [
       "<matplotlib.figure.Figure at 0x7f458caa9160>"
      ]
     },
     "metadata": {
      "image/png": {
       "height": 250,
       "width": 253
      }
     },
     "output_type": "display_data"
    }
   ],
   "source": [
    "%matplotlib inline\n",
    "%config InlineBackend.figure_format = 'retina'\n",
    "\n",
    "import helper\n",
    "import numpy as np\n",
    "\n",
    "# Explore the dataset\n",
    "batch_id = 1\n",
    "sample_id = 25\n",
    "helper.display_stats(cifar10_dataset_folder_path, batch_id, sample_id)"
   ]
  },
  {
   "cell_type": "markdown",
   "metadata": {},
   "source": [
    "## Implement Preprocess Functions\n",
    "### Normalize\n",
    "In the cell below, implement the `normalize` function to take in image data, `x`, and return it as a normalized Numpy array. The values should be in the range of 0 to 1, inclusive.  The return object should be the same shape as `x`."
   ]
  },
  {
   "cell_type": "code",
   "execution_count": 4,
   "metadata": {},
   "outputs": [
    {
     "name": "stdout",
     "output_type": "stream",
     "text": [
      "Tests Passed\n"
     ]
    }
   ],
   "source": [
    "def normalize(x):\n",
    "    \"\"\"\n",
    "    Normalize a list of sample image data in the range of 0 to 1\n",
    "    : x: List of image data.  The image shape is (32, 32, 3)\n",
    "    : return: Numpy array of normalize data\n",
    "    \"\"\"\n",
    "    return x / x.max()\n",
    "\n",
    "\n",
    "\"\"\"\n",
    "DON'T MODIFY ANYTHING IN THIS CELL THAT IS BELOW THIS LINE\n",
    "\"\"\"\n",
    "tests.test_normalize(normalize)"
   ]
  },
  {
   "cell_type": "markdown",
   "metadata": {},
   "source": [
    "### One-hot encode\n",
    "Just like the previous code cell, you'll be implementing a function for preprocessing.  This time, you'll implement the `one_hot_encode` function. The input, `x`, are a list of labels.  Implement the function to return the list of labels as One-Hot encoded Numpy array.  The possible values for labels are 0 to 9. The one-hot encoding function should return the same encoding for each value between each call to `one_hot_encode`.  Make sure to save the map of encodings outside the function.\n",
    "\n",
    "Hint: Don't reinvent the wheel."
   ]
  },
  {
   "cell_type": "code",
   "execution_count": 5,
   "metadata": {},
   "outputs": [
    {
     "name": "stdout",
     "output_type": "stream",
     "text": [
      "Tests Passed\n"
     ]
    }
   ],
   "source": [
    "from sklearn import preprocessing\n",
    "\n",
    "class OneHotEncoder:\n",
    "    def __init__(self):\n",
    "        self._labels_set = set()\n",
    "        self._encoder = preprocessing.LabelBinarizer()\n",
    "        \n",
    "    def fit(self, labels):\n",
    "        self._labels_set = self._labels_set.union(set(labels))\n",
    "        self._encoder.fit(list(self._labels_set))\n",
    "        \n",
    "    def transform(self, labels):\n",
    "        return self._encoder.transform(labels)\n",
    "\n",
    "one_hot_encoder = OneHotEncoder()\n",
    "    \n",
    "def one_hot_encode(x):\n",
    "    \"\"\"\n",
    "    One hot encode a list of sample labels. Return a one-hot encoded vector for each label.\n",
    "    : x: List of sample Labels\n",
    "    : return: Numpy array of one-hot encoded labels\n",
    "    \"\"\"\n",
    "    one_hot_encoder.fit(x)\n",
    "    return one_hot_encoder.transform(x)\n",
    "\n",
    "\"\"\"\n",
    "DON'T MODIFY ANYTHING IN THIS CELL THAT IS BELOW THIS LINE\n",
    "\"\"\"\n",
    "tests.test_one_hot_encode(one_hot_encode)"
   ]
  },
  {
   "cell_type": "markdown",
   "metadata": {},
   "source": [
    "### Randomize Data\n",
    "As you saw from exploring the data above, the order of the samples are randomized.  It doesn't hurt to randomize it again, but you don't need to for this dataset."
   ]
  },
  {
   "cell_type": "markdown",
   "metadata": {},
   "source": [
    "## Preprocess all the data and save it\n",
    "Running the code cell below will preprocess all the CIFAR-10 data and save it to file. The code below also uses 10% of the training data for validation."
   ]
  },
  {
   "cell_type": "code",
   "execution_count": 6,
   "metadata": {
    "collapsed": true
   },
   "outputs": [],
   "source": [
    "\"\"\"\n",
    "DON'T MODIFY ANYTHING IN THIS CELL\n",
    "\"\"\"\n",
    "# Preprocess Training, Validation, and Testing Data\n",
    "helper.preprocess_and_save_data(cifar10_dataset_folder_path, normalize, one_hot_encode)"
   ]
  },
  {
   "cell_type": "markdown",
   "metadata": {},
   "source": [
    "# Check Point\n",
    "This is your first checkpoint.  If you ever decide to come back to this notebook or have to restart the notebook, you can start from here.  The preprocessed data has been saved to disk."
   ]
  },
  {
   "cell_type": "code",
   "execution_count": 7,
   "metadata": {
    "collapsed": true
   },
   "outputs": [],
   "source": [
    "\"\"\"\n",
    "DON'T MODIFY ANYTHING IN THIS CELL\n",
    "\"\"\"\n",
    "import pickle\n",
    "import problem_unittests as tests\n",
    "import helper\n",
    "\n",
    "# Load the Preprocessed Validation data\n",
    "valid_features, valid_labels = pickle.load(open('preprocess_validation.p', mode='rb'))"
   ]
  },
  {
   "cell_type": "markdown",
   "metadata": {},
   "source": [
    "## Build the network\n",
    "For the neural network, you'll build each layer into a function.  Most of the code you've seen has been outside of functions. To test your code more thoroughly, we require that you put each layer in a function.  This allows us to give you better feedback and test for simple mistakes using our unittests before you submit your project.\n",
    "\n",
    ">**Note:** If you're finding it hard to dedicate enough time for this course each week, we've provided a small shortcut to this part of the project. In the next couple of problems, you'll have the option to use classes from the [TensorFlow Layers](https://www.tensorflow.org/api_docs/python/tf/layers) or [TensorFlow Layers (contrib)](https://www.tensorflow.org/api_guides/python/contrib.layers) packages to build each layer, except the layers you build in the \"Convolutional and Max Pooling Layer\" section.  TF Layers is similar to Keras's and TFLearn's abstraction to layers, so it's easy to pickup.\n",
    "\n",
    ">However, if you would like to get the most out of this course, try to solve all the problems _without_ using anything from the TF Layers packages. You **can** still use classes from other packages that happen to have the same name as ones you find in TF Layers! For example, instead of using the TF Layers version of the `conv2d` class, [tf.layers.conv2d](https://www.tensorflow.org/api_docs/python/tf/layers/conv2d), you would want to use the TF Neural Network version of `conv2d`, [tf.nn.conv2d](https://www.tensorflow.org/api_docs/python/tf/nn/conv2d). \n",
    "\n",
    "Let's begin!\n",
    "\n",
    "### Input\n",
    "The neural network needs to read the image data, one-hot encoded labels, and dropout keep probability. Implement the following functions\n",
    "* Implement `neural_net_image_input`\n",
    " * Return a [TF Placeholder](https://www.tensorflow.org/api_docs/python/tf/placeholder)\n",
    " * Set the shape using `image_shape` with batch size set to `None`.\n",
    " * Name the TensorFlow placeholder \"x\" using the TensorFlow `name` parameter in the [TF Placeholder](https://www.tensorflow.org/api_docs/python/tf/placeholder).\n",
    "* Implement `neural_net_label_input`\n",
    " * Return a [TF Placeholder](https://www.tensorflow.org/api_docs/python/tf/placeholder)\n",
    " * Set the shape using `n_classes` with batch size set to `None`.\n",
    " * Name the TensorFlow placeholder \"y\" using the TensorFlow `name` parameter in the [TF Placeholder](https://www.tensorflow.org/api_docs/python/tf/placeholder).\n",
    "* Implement `neural_net_keep_prob_input`\n",
    " * Return a [TF Placeholder](https://www.tensorflow.org/api_docs/python/tf/placeholder) for dropout keep probability.\n",
    " * Name the TensorFlow placeholder \"keep_prob\" using the TensorFlow `name` parameter in the [TF Placeholder](https://www.tensorflow.org/api_docs/python/tf/placeholder).\n",
    "\n",
    "These names will be used at the end of the project to load your saved model.\n",
    "\n",
    "Note: `None` for shapes in TensorFlow allow for a dynamic size."
   ]
  },
  {
   "cell_type": "code",
   "execution_count": 8,
   "metadata": {},
   "outputs": [
    {
     "name": "stdout",
     "output_type": "stream",
     "text": [
      "Image Input Tests Passed.\n",
      "Label Input Tests Passed.\n",
      "Keep Prob Tests Passed.\n"
     ]
    }
   ],
   "source": [
    "import tensorflow as tf\n",
    "\n",
    "def neural_net_image_input(image_shape):\n",
    "    \"\"\"\n",
    "    Return a Tensor for a batch of image input\n",
    "    : image_shape: Shape of the images\n",
    "    : return: Tensor for image input.\n",
    "    \"\"\"\n",
    "    return tf.placeholder(tf.float32, (None,) + image_shape, name='x')\n",
    "\n",
    "\n",
    "def neural_net_label_input(n_classes):\n",
    "    \"\"\"\n",
    "    Return a Tensor for a batch of label input\n",
    "    : n_classes: Number of classes\n",
    "    : return: Tensor for label input.\n",
    "    \"\"\"\n",
    "    return tf.placeholder(tf.float32, (None, n_classes), name='y')\n",
    "\n",
    "\n",
    "def neural_net_keep_prob_input():\n",
    "    \"\"\"\n",
    "    Return a Tensor for keep probability\n",
    "    : return: Tensor for keep probability.\n",
    "    \"\"\"\n",
    "    return tf.placeholder(tf.float32, name='keep_prob')\n",
    "\n",
    "\n",
    "\"\"\"\n",
    "DON'T MODIFY ANYTHING IN THIS CELL THAT IS BELOW THIS LINE\n",
    "\"\"\"\n",
    "tf.reset_default_graph()\n",
    "tests.test_nn_image_inputs(neural_net_image_input)\n",
    "tests.test_nn_label_inputs(neural_net_label_input)\n",
    "tests.test_nn_keep_prob_inputs(neural_net_keep_prob_input)"
   ]
  },
  {
   "cell_type": "markdown",
   "metadata": {},
   "source": [
    "### Convolution and Max Pooling Layer\n",
    "Convolution layers have a lot of success with images. For this code cell, you should implement the function `conv2d_maxpool` to apply convolution then max pooling:\n",
    "* Create the weight and bias using `conv_ksize`, `conv_num_outputs` and the shape of `x_tensor`.\n",
    "* Apply a convolution to `x_tensor` using weight and `conv_strides`.\n",
    " * We recommend you use same padding, but you're welcome to use any padding.\n",
    "* Add bias\n",
    "* Add a nonlinear activation to the convolution.\n",
    "* Apply Max Pooling using `pool_ksize` and `pool_strides`.\n",
    " * We recommend you use same padding, but you're welcome to use any padding.\n",
    "\n",
    "**Note:** You **can't** use [TensorFlow Layers](https://www.tensorflow.org/api_docs/python/tf/layers) or [TensorFlow Layers (contrib)](https://www.tensorflow.org/api_guides/python/contrib.layers) for **this** layer, but you can still use TensorFlow's [Neural Network](https://www.tensorflow.org/api_docs/python/tf/nn) package. You may still use the shortcut option for all the **other** layers."
   ]
  },
  {
   "cell_type": "code",
   "execution_count": 9,
   "metadata": {},
   "outputs": [
    {
     "name": "stdout",
     "output_type": "stream",
     "text": [
      "Tests Passed\n"
     ]
    }
   ],
   "source": [
    "# MEAN will be used for conv_filter initialization (see conv_filter function)\n",
    "MEAN = 0.0\n",
    "\n",
    "def empstddev(n):\n",
    "    return 1 / np.sqrt(n)\n",
    "\n",
    "# STDDEV will be used for conv_filter initialization (see conv_filter function)\n",
    "STDDEV = empstddev(32 * 32 * 3)\n",
    "\n",
    "# I use SAME padding\n",
    "PADDING = 'SAME'\n",
    "\n",
    "def conv_filter(input_depth, filter_shape, conv_num_outputs):\n",
    "    \"\"\"Constructs convolution filter\n",
    "    \n",
    "    Arguments:\n",
    "      - input_depth - an input channel's number (3 for RGB image)\n",
    "      - filter_shape - N-D tuple (2-D in my case) (a kernel size in other words)\n",
    "      - conv_num_outputs - a number for outputs\n",
    "      \n",
    "    Returns convolution filter's matrix.\n",
    "    \"\"\"\n",
    "    shape = filter_shape + (input_depth, conv_num_outputs)\n",
    "    return tf.Variable(tf.truncated_normal(shape, mean=MEAN, stddev=STDDEV))\n",
    "\n",
    "\n",
    "def conv2d(x, W, b, conv_strides=(1, 1), padding=PADDING):\n",
    "    \"\"\"Constructs conv2d layer\n",
    "    \n",
    "    Arguments:\n",
    "      - x - 4-D Tensor\n",
    "      - W - Filter's Tensor\n",
    "      - b - bias\n",
    "      - conv_strides - Stride 2-D tuple for convolution\n",
    "      - padding - it's padding =)\n",
    "      \n",
    "    Returns tensor\n",
    "    \n",
    "    Output's size depends on filter's shape (W).\n",
    "    \"\"\"\n",
    "    # first stride is a stride for \"batch\" dimension\n",
    "    # last stride is a stride for \"depth\" dimension\n",
    "    strides = (1,) + conv_strides + (1,)\n",
    "    conv2d_layer = tf.nn.conv2d(x, W, strides=strides, padding=padding)\n",
    "    conv2d_layer = tf.nn.bias_add(conv2d_layer, b)\n",
    "    return conv2d_layer\n",
    "\n",
    "\n",
    "def maxpool(x, ksize, pool_strides, padding=PADDING):\n",
    "    \"\"\"Constructs max pool layer\n",
    "    \n",
    "    Arguments:\n",
    "      - x - input tensor\n",
    "      - ksize - filter's size\n",
    "      - strides - pool strides\n",
    "      - padding - it's padding =)\n",
    "      \n",
    "    Returns 4-D tensor for maxpool\n",
    "    \"\"\"\n",
    "    pool_size = (1,) + ksize + (1,)\n",
    "    strides = (1,) + pool_strides + (1,)\n",
    "    return tf.nn.max_pool(x, pool_size, strides, padding)\n",
    "\n",
    "\n",
    "def conv2d_maxpool(x_tensor, conv_num_outputs, conv_ksize, conv_strides, pool_ksize, pool_strides):\n",
    "    \"\"\"\n",
    "    Apply convolution then max pooling to x_tensor\n",
    "    :param x_tensor: TensorFlow Tensor\n",
    "    :param conv_num_outputs: Number of outputs for the convolutional layer\n",
    "    :param conv_ksize: kernal size 2-D Tuple for the convolutional layer\n",
    "    :param conv_strides: Stride 2-D Tuple for convolution\n",
    "    :param pool_ksize: kernal size 2-D Tuple for pool\n",
    "    :param pool_strides: Stride 2-D Tuple for pool\n",
    "    : return: A tensor that represents convolution and max pooling of x_tensor\n",
    "    \"\"\"\n",
    "    input_depth = tf.cast(x_tensor.shape[3], tf.int32)\n",
    "    \n",
    "    conv2d_filter = conv_filter(input_depth, conv_ksize, conv_num_outputs)\n",
    "    b = tf.Variable(tf.zeros(conv_num_outputs))\n",
    "    \n",
    "    conv2d_layer = conv2d(x_tensor, conv2d_filter, b, conv_strides)\n",
    "    conv2d_layer = tf.nn.relu(conv2d_layer)\n",
    "    conv2d_layer = maxpool(conv2d_layer, pool_ksize, pool_strides)\n",
    "    \n",
    "    return conv2d_layer\n",
    "\n",
    "\n",
    "\"\"\"\n",
    "DON'T MODIFY ANYTHING IN THIS CELL THAT IS BELOW THIS LINE\n",
    "\"\"\"\n",
    "tests.test_con_pool(conv2d_maxpool)"
   ]
  },
  {
   "cell_type": "markdown",
   "metadata": {},
   "source": [
    "### Flatten Layer\n",
    "Implement the `flatten` function to change the dimension of `x_tensor` from a 4-D tensor to a 2-D tensor.  The output should be the shape (*Batch Size*, *Flattened Image Size*). Shortcut option: you can use classes from the [TensorFlow Layers](https://www.tensorflow.org/api_docs/python/tf/layers) or [TensorFlow Layers (contrib)](https://www.tensorflow.org/api_guides/python/contrib.layers) packages for this layer. For more of a challenge, only use other TensorFlow packages."
   ]
  },
  {
   "cell_type": "code",
   "execution_count": 10,
   "metadata": {},
   "outputs": [
    {
     "name": "stdout",
     "output_type": "stream",
     "text": [
      "Tests Passed\n"
     ]
    }
   ],
   "source": [
    "from operator import mul\n",
    "from functools import reduce\n",
    "\n",
    "\n",
    "def flatten_size(tensor):\n",
    "    \"\"\"Calculates flatten size for N-D tensor\"\"\"\n",
    "    shape = map(int, tensor.shape[1:])\n",
    "    return reduce(mul, shape, 1)\n",
    "\n",
    "\n",
    "def flatten(x_tensor):\n",
    "    \"\"\"\n",
    "    Flatten x_tensor to (Batch Size, Flattened Image Size)\n",
    "    : x_tensor: A tensor of size (Batch Size, ...), where ... are the image dimensions.\n",
    "    : return: A tensor of size (Batch Size, Flattened Image Size).\n",
    "    \"\"\"\n",
    "    return tf.reshape(x_tensor, [-1, flatten_size(x_tensor)])\n",
    "\n",
    "\"\"\"\n",
    "DON'T MODIFY ANYTHING IN THIS CELL THAT IS BELOW THIS LINE\n",
    "\"\"\"\n",
    "tests.test_flatten(flatten)"
   ]
  },
  {
   "cell_type": "markdown",
   "metadata": {},
   "source": [
    "### Fully-Connected Layer\n",
    "Implement the `fully_conn` function to apply a fully connected layer to `x_tensor` with the shape (*Batch Size*, *num_outputs*). Shortcut option: you can use classes from the [TensorFlow Layers](https://www.tensorflow.org/api_docs/python/tf/layers) or [TensorFlow Layers (contrib)](https://www.tensorflow.org/api_guides/python/contrib.layers) packages for this layer. For more of a challenge, only use other TensorFlow packages."
   ]
  },
  {
   "cell_type": "code",
   "execution_count": 11,
   "metadata": {},
   "outputs": [
    {
     "name": "stdout",
     "output_type": "stream",
     "text": [
      "Tests Passed\n"
     ]
    }
   ],
   "source": [
    "def fully_conn(x_tensor, num_outputs):\n",
    "    \"\"\"\n",
    "    Apply a fully connected layer to x_tensor using weight and bias\n",
    "    : x_tensor: A 2-D tensor where the first dimension is batch size.\n",
    "    : num_outputs: The number of output that the new tensor should be.\n",
    "    : return: A 2-D tensor where the second dimension is num_outputs.\n",
    "    \"\"\"\n",
    "    num_inputs = tf.cast(x_tensor.shape[1], tf.int32)\n",
    "    weights = tf.Variable(tf.truncated_normal((num_inputs, num_outputs), mean=MEAN, stddev=STDDEV))\n",
    "    bias = tf.Variable(tf.zeros(num_outputs))\n",
    "    \n",
    "    net = tf.add(tf.matmul(x_tensor, weights), bias)\n",
    "    return tf.nn.relu(net)\n",
    "\n",
    "\n",
    "\"\"\"\n",
    "DON'T MODIFY ANYTHING IN THIS CELL THAT IS BELOW THIS LINE\n",
    "\"\"\"\n",
    "tests.test_fully_conn(fully_conn)"
   ]
  },
  {
   "cell_type": "markdown",
   "metadata": {},
   "source": [
    "### Output Layer\n",
    "Implement the `output` function to apply a fully connected layer to `x_tensor` with the shape (*Batch Size*, *num_outputs*). Shortcut option: you can use classes from the [TensorFlow Layers](https://www.tensorflow.org/api_docs/python/tf/layers) or [TensorFlow Layers (contrib)](https://www.tensorflow.org/api_guides/python/contrib.layers) packages for this layer. For more of a challenge, only use other TensorFlow packages.\n",
    "\n",
    "**Note:** Activation, softmax, or cross entropy should **not** be applied to this."
   ]
  },
  {
   "cell_type": "code",
   "execution_count": 12,
   "metadata": {},
   "outputs": [
    {
     "name": "stdout",
     "output_type": "stream",
     "text": [
      "Tests Passed\n"
     ]
    }
   ],
   "source": [
    "def output(x_tensor, num_outputs):\n",
    "    \"\"\"\n",
    "    Apply a output layer to x_tensor using weight and bias\n",
    "    : x_tensor: A 2-D tensor where the first dimension is batch size.\n",
    "    : num_outputs: The number of output that the new tensor should be.\n",
    "    : return: A 2-D tensor where the second dimension is num_outputs.\n",
    "    \"\"\"\n",
    "    num_inputs = tf.cast(x_tensor.shape[1], tf.int32)\n",
    "    weights = tf.Variable(tf.truncated_normal((num_inputs, num_outputs), mean=MEAN, stddev=STDDEV))\n",
    "    bias = tf.Variable(tf.zeros(num_outputs))\n",
    "    \n",
    "    return tf.add(tf.matmul(x_tensor, weights), bias)\n",
    "\n",
    "\"\"\"\n",
    "DON'T MODIFY ANYTHING IN THIS CELL THAT IS BELOW THIS LINE\n",
    "\"\"\"\n",
    "tests.test_output(output)"
   ]
  },
  {
   "cell_type": "markdown",
   "metadata": {},
   "source": [
    "### Create Convolutional Model\n",
    "Implement the function `conv_net` to create a convolutional neural network model. The function takes in a batch of images, `x`, and outputs logits.  Use the layers you created above to create this model:\n",
    "\n",
    "* Apply 1, 2, or 3 Convolution and Max Pool layers\n",
    "* Apply a Flatten Layer\n",
    "* Apply 1, 2, or 3 Fully Connected Layers\n",
    "* Apply an Output Layer\n",
    "* Return the output\n",
    "* Apply [TensorFlow's Dropout](https://www.tensorflow.org/api_docs/python/tf/nn/dropout) to one or more layers in the model using `keep_prob`. "
   ]
  },
  {
   "cell_type": "code",
   "execution_count": 13,
   "metadata": {},
   "outputs": [
    {
     "name": "stdout",
     "output_type": "stream",
     "text": [
      "Neural Network Built!\n"
     ]
    }
   ],
   "source": [
    "cifar10_num_outputs = 10\n",
    "\n",
    "def ksize(a, b):\n",
    "    return (a, b)\n",
    "\n",
    "def strides(a, b):\n",
    "    return (a, b)\n",
    "\n",
    "def hidden_size(inputs, outputs):\n",
    "    m = min(inputs, outputs)\n",
    "    d = abs(inputs - outputs)\n",
    "    return (m + d // 2)\n",
    "\n",
    "def conv_net(x, keep_prob):\n",
    "    \"\"\"\n",
    "    Create a convolutional neural network model\n",
    "    : x: Placeholder tensor that holds image data.\n",
    "    : keep_prob: Placeholder tensor that hold dropout keep probability.\n",
    "    : return: Tensor that represents logits\n",
    "    \"\"\"\n",
    "    # Function Definition from Above:\n",
    "    #    conv2d_maxpool(x_tensor, conv_num_outputs, conv_ksize, conv_strides, pool_ksize, pool_strides)\n",
    "    # Reminder:\n",
    "    # image size is 32x32 (for cifar-10)\n",
    "    net = conv2d_maxpool(x, \n",
    "                         32,                             # output depth\n",
    "                         ksize(2, 2), strides(1, 1),     # conv\n",
    "                         ksize(2, 2), strides(1, 1))     # pool\n",
    "    net = conv2d_maxpool(net, \n",
    "                         48,                             # output depth\n",
    "                         ksize(3, 3), strides(1, 1),     # conv\n",
    "                         ksize(2, 2), strides(2, 2))     # pool  \n",
    "    net = conv2d_maxpool(net, \n",
    "                         48,                             # output depth\n",
    "                         ksize(5, 5), strides(1, 1),     # conv\n",
    "                         ksize(2, 2), strides(2, 2))     # pool  \n",
    "    \n",
    "    net = tf.nn.dropout(net, keep_prob)\n",
    "    \n",
    "    # Function Definition from Above:\n",
    "    #   flatten(x_tensor)\n",
    "    net = flatten(net)\n",
    "    \n",
    "    # Function Definition from Above:\n",
    "    #   fully_conn(x_tensor, num_outputs)\n",
    "    net = fully_conn(net, hidden_size(48, cifar10_num_outputs))\n",
    "    \n",
    "    net = output(net, cifar10_num_outputs)\n",
    "    \n",
    "    return net\n",
    "\n",
    "\n",
    "\"\"\"\n",
    "DON'T MODIFY ANYTHING IN THIS CELL THAT IS BELOW THIS LINE\n",
    "\"\"\"\n",
    "\n",
    "##############################\n",
    "## Build the Neural Network ##\n",
    "##############################\n",
    "\n",
    "# Remove previous weights, bias, inputs, etc..\n",
    "tf.reset_default_graph()\n",
    "\n",
    "# Inputs\n",
    "x = neural_net_image_input((32, 32, 3))\n",
    "y = neural_net_label_input(10)\n",
    "keep_prob = neural_net_keep_prob_input()\n",
    "\n",
    "# Model\n",
    "logits = conv_net(x, keep_prob)\n",
    "\n",
    "# Name logits Tensor, so that is can be loaded from disk after training\n",
    "logits = tf.identity(logits, name='logits')\n",
    "\n",
    "# Loss and Optimizer\n",
    "cost = tf.reduce_mean(tf.nn.softmax_cross_entropy_with_logits(logits=logits, labels=y))\n",
    "optimizer = tf.train.AdamOptimizer().minimize(cost)\n",
    "\n",
    "# Accuracy\n",
    "correct_pred = tf.equal(tf.argmax(logits, 1), tf.argmax(y, 1))\n",
    "accuracy = tf.reduce_mean(tf.cast(correct_pred, tf.float32), name='accuracy')\n",
    "\n",
    "tests.test_conv_net(conv_net)"
   ]
  },
  {
   "cell_type": "markdown",
   "metadata": {},
   "source": [
    "## Train the Neural Network\n",
    "### Single Optimization\n",
    "Implement the function `train_neural_network` to do a single optimization.  The optimization should use `optimizer` to optimize in `session` with a `feed_dict` of the following:\n",
    "* `x` for image input\n",
    "* `y` for labels\n",
    "* `keep_prob` for keep probability for dropout\n",
    "\n",
    "This function will be called for each batch, so `tf.global_variables_initializer()` has already been called.\n",
    "\n",
    "Note: Nothing needs to be returned. This function is only optimizing the neural network."
   ]
  },
  {
   "cell_type": "code",
   "execution_count": 14,
   "metadata": {},
   "outputs": [
    {
     "name": "stdout",
     "output_type": "stream",
     "text": [
      "Tests Passed\n"
     ]
    }
   ],
   "source": [
    "def train_neural_network(session, optimizer, keep_probability, feature_batch, label_batch):\n",
    "    \"\"\"\n",
    "    Optimize the session on a batch of images and labels\n",
    "    : session: Current TensorFlow session\n",
    "    : optimizer: TensorFlow optimizer function\n",
    "    : keep_probability: keep probability\n",
    "    : feature_batch: Batch of Numpy image data\n",
    "    : label_batch: Batch of Numpy label data\n",
    "    \"\"\"\n",
    "    feed_dict = {x: feature_batch, y: label_batch, keep_prob: keep_probability}\n",
    "    session.run(optimizer, feed_dict=feed_dict)\n",
    "\n",
    "\n",
    "\"\"\"\n",
    "DON'T MODIFY ANYTHING IN THIS CELL THAT IS BELOW THIS LINE\n",
    "\"\"\"\n",
    "tests.test_train_nn(train_neural_network)"
   ]
  },
  {
   "cell_type": "markdown",
   "metadata": {},
   "source": [
    "### Show Stats\n",
    "Implement the function `print_stats` to print loss and validation accuracy.  Use the global variables `valid_features` and `valid_labels` to calculate validation accuracy.  Use a keep probability of `1.0` to calculate the loss and validation accuracy."
   ]
  },
  {
   "cell_type": "code",
   "execution_count": 15,
   "metadata": {
    "collapsed": true
   },
   "outputs": [],
   "source": [
    "def print_stats(session, feature_batch, label_batch, cost, accuracy):\n",
    "    \"\"\"\n",
    "    Print information about loss and validation accuracy\n",
    "    : session: Current TensorFlow session\n",
    "    : feature_batch: Batch of Numpy image data\n",
    "    : label_batch: Batch of Numpy label data\n",
    "    : cost: TensorFlow cost function\n",
    "    : accuracy: TensorFlow accuracy function\n",
    "    \"\"\"\n",
    "    feed_dict = {x: feature_batch, y: label_batch, keep_prob: 1.0}\n",
    "    cost_value = session.run(cost, feed_dict=feed_dict)\n",
    "    feed_dict = {x: valid_features, y: valid_labels, keep_prob: 1.0}\n",
    "    accuracy_value = session.run(accuracy, feed_dict=feed_dict)\n",
    "    print(\"Validation loss: {}; Accuracy: {}\".format(cost_value, accuracy_value))"
   ]
  },
  {
   "cell_type": "markdown",
   "metadata": {},
   "source": [
    "### Hyperparameters\n",
    "Tune the following parameters:\n",
    "* Set `epochs` to the number of iterations until the network stops learning or start overfitting\n",
    "* Set `batch_size` to the highest number that your machine has memory for.  Most people set them to common sizes of memory:\n",
    " * 64\n",
    " * 128\n",
    " * 256\n",
    " * ...\n",
    "* Set `keep_probability` to the probability of keeping a node using dropout"
   ]
  },
  {
   "cell_type": "code",
   "execution_count": 16,
   "metadata": {
    "collapsed": true
   },
   "outputs": [],
   "source": [
    "# TODO: Tune Parameters\n",
    "epochs = 25\n",
    "batch_size = 256\n",
    "keep_probability = 0.8"
   ]
  },
  {
   "cell_type": "markdown",
   "metadata": {},
   "source": [
    "### Train on a Single CIFAR-10 Batch\n",
    "Instead of training the neural network on all the CIFAR-10 batches of data, let's use a single batch. This should save time while you iterate on the model to get a better accuracy.  Once the final validation accuracy is 50% or greater, run the model on all the data in the next section."
   ]
  },
  {
   "cell_type": "code",
   "execution_count": 19,
   "metadata": {},
   "outputs": [
    {
     "name": "stdout",
     "output_type": "stream",
     "text": [
      "Checking the Training on a Single Batch...\n",
      "Epoch  1, CIFAR-10 Batch 1:  Validation loss: 2.203247308731079; Accuracy: 0.24300000071525574\n",
      "Epoch  2, CIFAR-10 Batch 1:  Validation loss: 2.0635154247283936; Accuracy: 0.28859996795654297\n",
      "Epoch  3, CIFAR-10 Batch 1:  Validation loss: 1.9230740070343018; Accuracy: 0.34200000762939453\n",
      "Epoch  4, CIFAR-10 Batch 1:  Validation loss: 1.7919394969940186; Accuracy: 0.3877999782562256\n",
      "Epoch  5, CIFAR-10 Batch 1:  Validation loss: 1.738407850265503; Accuracy: 0.4241999685764313\n",
      "Epoch  6, CIFAR-10 Batch 1:  Validation loss: 1.739780306816101; Accuracy: 0.4397999942302704\n",
      "Epoch  7, CIFAR-10 Batch 1:  Validation loss: 1.6863377094268799; Accuracy: 0.46139997243881226\n",
      "Epoch  8, CIFAR-10 Batch 1:  Validation loss: 1.714736819267273; Accuracy: 0.47199997305870056\n",
      "Epoch  9, CIFAR-10 Batch 1:  Validation loss: 1.6364235877990723; Accuracy: 0.4811999499797821\n",
      "Epoch 10, CIFAR-10 Batch 1:  Validation loss: 1.5667420625686646; Accuracy: 0.4899999499320984\n",
      "Epoch 11, CIFAR-10 Batch 1:  Validation loss: 1.512683391571045; Accuracy: 0.49299997091293335\n",
      "Epoch 12, CIFAR-10 Batch 1:  Validation loss: 1.4229774475097656; Accuracy: 0.5033999681472778\n",
      "Epoch 13, CIFAR-10 Batch 1:  Validation loss: 1.3677074909210205; Accuracy: 0.5079999566078186\n",
      "Epoch 14, CIFAR-10 Batch 1:  Validation loss: 1.348734736442566; Accuracy: 0.5108000040054321\n",
      "Epoch 15, CIFAR-10 Batch 1:  Validation loss: 1.2988029718399048; Accuracy: 0.5163999199867249\n",
      "Epoch 16, CIFAR-10 Batch 1:  Validation loss: 1.2617698907852173; Accuracy: 0.518799901008606\n",
      "Epoch 17, CIFAR-10 Batch 1:  Validation loss: 1.1888066530227661; Accuracy: 0.5215999484062195\n",
      "Epoch 18, CIFAR-10 Batch 1:  Validation loss: 1.1962600946426392; Accuracy: 0.5183999538421631\n",
      "Epoch 19, CIFAR-10 Batch 1:  Validation loss: 1.1573700904846191; Accuracy: 0.5285999178886414\n",
      "Epoch 20, CIFAR-10 Batch 1:  Validation loss: 1.0809760093688965; Accuracy: 0.5327999591827393\n",
      "Epoch 21, CIFAR-10 Batch 1:  Validation loss: 1.1481002569198608; Accuracy: 0.5257999300956726\n",
      "Epoch 22, CIFAR-10 Batch 1:  Validation loss: 1.0375038385391235; Accuracy: 0.5303999185562134\n",
      "Epoch 23, CIFAR-10 Batch 1:  Validation loss: 1.063100814819336; Accuracy: 0.5323999524116516\n",
      "Epoch 24, CIFAR-10 Batch 1:  Validation loss: 0.9833509922027588; Accuracy: 0.5429999232292175\n",
      "Epoch 25, CIFAR-10 Batch 1:  Validation loss: 0.9689831137657166; Accuracy: 0.5423999428749084\n"
     ]
    }
   ],
   "source": [
    "\"\"\"\n",
    "DON'T MODIFY ANYTHING IN THIS CELL\n",
    "\"\"\"\n",
    "print('Checking the Training on a Single Batch...')\n",
    "with tf.Session() as sess:\n",
    "    # Initializing the variables\n",
    "    sess.run(tf.global_variables_initializer())\n",
    "    \n",
    "    # Training cycle\n",
    "    for epoch in range(epochs):\n",
    "        batch_i = 1\n",
    "        for batch_features, batch_labels in helper.load_preprocess_training_batch(batch_i, batch_size):\n",
    "            train_neural_network(sess, optimizer, keep_probability, batch_features, batch_labels)\n",
    "        print('Epoch {:>2}, CIFAR-10 Batch {}:  '.format(epoch + 1, batch_i), end='')\n",
    "        print_stats(sess, batch_features, batch_labels, cost, accuracy)"
   ]
  },
  {
   "cell_type": "markdown",
   "metadata": {},
   "source": [
    "### Fully Train the Model\n",
    "Now that you got a good accuracy with a single CIFAR-10 batch, try it with all five batches."
   ]
  },
  {
   "cell_type": "code",
   "execution_count": 20,
   "metadata": {},
   "outputs": [
    {
     "name": "stdout",
     "output_type": "stream",
     "text": [
      "Training...\n",
      "Epoch  1, CIFAR-10 Batch 1:  Validation loss: 2.195983409881592; Accuracy: 0.20919999480247498\n",
      "Epoch  1, CIFAR-10 Batch 2:  Validation loss: 1.9814594984054565; Accuracy: 0.3043999969959259\n",
      "Epoch  1, CIFAR-10 Batch 3:  Validation loss: 1.68153715133667; Accuracy: 0.30399999022483826\n",
      "Epoch  1, CIFAR-10 Batch 4:  Validation loss: 1.659812569618225; Accuracy: 0.35759997367858887\n",
      "Epoch  1, CIFAR-10 Batch 5:  Validation loss: 1.7411926984786987; Accuracy: 0.39959999918937683\n",
      "Epoch  2, CIFAR-10 Batch 1:  Validation loss: 1.7865464687347412; Accuracy: 0.40779998898506165\n",
      "Epoch  2, CIFAR-10 Batch 2:  Validation loss: 1.6527466773986816; Accuracy: 0.4411999583244324\n",
      "Epoch  2, CIFAR-10 Batch 3:  Validation loss: 1.3936221599578857; Accuracy: 0.4519999623298645\n",
      "Epoch  2, CIFAR-10 Batch 4:  Validation loss: 1.4156275987625122; Accuracy: 0.46539998054504395\n",
      "Epoch  2, CIFAR-10 Batch 5:  Validation loss: 1.5840256214141846; Accuracy: 0.47979992628097534\n",
      "Epoch  3, CIFAR-10 Batch 1:  Validation loss: 1.694458246231079; Accuracy: 0.4787999391555786\n",
      "Epoch  3, CIFAR-10 Batch 2:  Validation loss: 1.496556282043457; Accuracy: 0.4829999506473541\n",
      "Epoch  3, CIFAR-10 Batch 3:  Validation loss: 1.3141107559204102; Accuracy: 0.4925999343395233\n",
      "Epoch  3, CIFAR-10 Batch 4:  Validation loss: 1.3353041410446167; Accuracy: 0.5085999965667725\n",
      "Epoch  3, CIFAR-10 Batch 5:  Validation loss: 1.453837513923645; Accuracy: 0.5255999565124512\n",
      "Epoch  4, CIFAR-10 Batch 1:  Validation loss: 1.564763069152832; Accuracy: 0.5065999627113342\n",
      "Epoch  4, CIFAR-10 Batch 2:  Validation loss: 1.4526482820510864; Accuracy: 0.5153999924659729\n",
      "Epoch  4, CIFAR-10 Batch 3:  Validation loss: 1.1858582496643066; Accuracy: 0.5335999131202698\n",
      "Epoch  4, CIFAR-10 Batch 4:  Validation loss: 1.2870044708251953; Accuracy: 0.5461999773979187\n",
      "Epoch  4, CIFAR-10 Batch 5:  Validation loss: 1.348353624343872; Accuracy: 0.5537999272346497\n",
      "Epoch  5, CIFAR-10 Batch 1:  Validation loss: 1.5542654991149902; Accuracy: 0.5305999517440796\n",
      "Epoch  5, CIFAR-10 Batch 2:  Validation loss: 1.3624019622802734; Accuracy: 0.547999918460846\n",
      "Epoch  5, CIFAR-10 Batch 3:  Validation loss: 1.09977388381958; Accuracy: 0.5651999115943909\n",
      "Epoch  5, CIFAR-10 Batch 4:  Validation loss: 1.2515459060668945; Accuracy: 0.5669999718666077\n",
      "Epoch  5, CIFAR-10 Batch 5:  Validation loss: 1.2609654664993286; Accuracy: 0.5791999101638794\n",
      "Epoch  6, CIFAR-10 Batch 1:  Validation loss: 1.4371860027313232; Accuracy: 0.5587999224662781\n",
      "Epoch  6, CIFAR-10 Batch 2:  Validation loss: 1.2855287790298462; Accuracy: 0.5853999257087708\n",
      "Epoch  6, CIFAR-10 Batch 3:  Validation loss: 1.0249310731887817; Accuracy: 0.5891999006271362\n",
      "Epoch  6, CIFAR-10 Batch 4:  Validation loss: 1.1930123567581177; Accuracy: 0.6011998653411865\n",
      "Epoch  6, CIFAR-10 Batch 5:  Validation loss: 1.133592963218689; Accuracy: 0.5965998768806458\n",
      "Epoch  7, CIFAR-10 Batch 1:  Validation loss: 1.4152600765228271; Accuracy: 0.5865999460220337\n",
      "Epoch  7, CIFAR-10 Batch 2:  Validation loss: 1.2228474617004395; Accuracy: 0.606799840927124\n",
      "Epoch  7, CIFAR-10 Batch 3:  Validation loss: 0.970008909702301; Accuracy: 0.6055999398231506\n",
      "Epoch  7, CIFAR-10 Batch 4:  Validation loss: 1.1738967895507812; Accuracy: 0.6117998957633972\n",
      "Epoch  7, CIFAR-10 Batch 5:  Validation loss: 1.0452263355255127; Accuracy: 0.6187999248504639\n",
      "Epoch  8, CIFAR-10 Batch 1:  Validation loss: 1.2791346311569214; Accuracy: 0.6123999357223511\n",
      "Epoch  8, CIFAR-10 Batch 2:  Validation loss: 1.2150006294250488; Accuracy: 0.6199999451637268\n",
      "Epoch  8, CIFAR-10 Batch 3:  Validation loss: 0.9443680047988892; Accuracy: 0.6273999214172363\n",
      "Epoch  8, CIFAR-10 Batch 4:  Validation loss: 1.1299023628234863; Accuracy: 0.6337999105453491\n",
      "Epoch  8, CIFAR-10 Batch 5:  Validation loss: 0.9631795883178711; Accuracy: 0.6315999031066895\n",
      "Epoch  9, CIFAR-10 Batch 1:  Validation loss: 1.147913932800293; Accuracy: 0.6277998685836792\n",
      "Epoch  9, CIFAR-10 Batch 2:  Validation loss: 1.122894287109375; Accuracy: 0.6373999118804932\n",
      "Epoch  9, CIFAR-10 Batch 3:  Validation loss: 0.8985911011695862; Accuracy: 0.6307999491691589\n",
      "Epoch  9, CIFAR-10 Batch 4:  Validation loss: 1.074985146522522; Accuracy: 0.6479998826980591\n",
      "Epoch  9, CIFAR-10 Batch 5:  Validation loss: 0.930902361869812; Accuracy: 0.6331998705863953\n",
      "Epoch 10, CIFAR-10 Batch 1:  Validation loss: 1.0587862730026245; Accuracy: 0.6499999165534973\n",
      "Epoch 10, CIFAR-10 Batch 2:  Validation loss: 1.0540831089019775; Accuracy: 0.6471999287605286\n",
      "Epoch 10, CIFAR-10 Batch 3:  Validation loss: 0.84996098279953; Accuracy: 0.6483998894691467\n",
      "Epoch 10, CIFAR-10 Batch 4:  Validation loss: 1.0094478130340576; Accuracy: 0.6495998501777649\n",
      "Epoch 10, CIFAR-10 Batch 5:  Validation loss: 0.8716330528259277; Accuracy: 0.6475998759269714\n",
      "Epoch 11, CIFAR-10 Batch 1:  Validation loss: 1.03975510597229; Accuracy: 0.6483998894691467\n",
      "Epoch 11, CIFAR-10 Batch 2:  Validation loss: 0.9732480049133301; Accuracy: 0.6513998508453369\n",
      "Epoch 11, CIFAR-10 Batch 3:  Validation loss: 0.8245015144348145; Accuracy: 0.660399854183197\n",
      "Epoch 11, CIFAR-10 Batch 4:  Validation loss: 0.977526843547821; Accuracy: 0.6639998555183411\n",
      "Epoch 11, CIFAR-10 Batch 5:  Validation loss: 0.7898216247558594; Accuracy: 0.6591998934745789\n",
      "Epoch 12, CIFAR-10 Batch 1:  Validation loss: 1.034153938293457; Accuracy: 0.6525998711585999\n",
      "Epoch 12, CIFAR-10 Batch 2:  Validation loss: 0.9719511270523071; Accuracy: 0.6587998867034912\n",
      "Epoch 12, CIFAR-10 Batch 3:  Validation loss: 0.7758508920669556; Accuracy: 0.6607999205589294\n",
      "Epoch 12, CIFAR-10 Batch 4:  Validation loss: 0.9265347123146057; Accuracy: 0.6711998581886292\n",
      "Epoch 12, CIFAR-10 Batch 5:  Validation loss: 0.7697324752807617; Accuracy: 0.6601998805999756\n",
      "Epoch 13, CIFAR-10 Batch 1:  Validation loss: 0.9501919150352478; Accuracy: 0.6691998243331909\n",
      "Epoch 13, CIFAR-10 Batch 2:  Validation loss: 0.8870128989219666; Accuracy: 0.6657998561859131\n",
      "Epoch 13, CIFAR-10 Batch 3:  Validation loss: 0.7123309373855591; Accuracy: 0.6749998331069946\n",
      "Epoch 13, CIFAR-10 Batch 4:  Validation loss: 0.8922877311706543; Accuracy: 0.6733999252319336\n",
      "Epoch 13, CIFAR-10 Batch 5:  Validation loss: 0.7557199597358704; Accuracy: 0.6697998642921448\n",
      "Epoch 14, CIFAR-10 Batch 1:  Validation loss: 0.9420434832572937; Accuracy: 0.6749998927116394\n",
      "Epoch 14, CIFAR-10 Batch 2:  Validation loss: 0.8987878561019897; Accuracy: 0.6765998601913452\n",
      "Epoch 14, CIFAR-10 Batch 3:  Validation loss: 0.6696886420249939; Accuracy: 0.6761999130249023\n",
      "Epoch 14, CIFAR-10 Batch 4:  Validation loss: 0.8722440004348755; Accuracy: 0.6839998364448547\n",
      "Epoch 14, CIFAR-10 Batch 5:  Validation loss: 0.7264237403869629; Accuracy: 0.6791998744010925\n",
      "Epoch 15, CIFAR-10 Batch 1:  Validation loss: 0.8886439204216003; Accuracy: 0.674599826335907\n",
      "Epoch 15, CIFAR-10 Batch 2:  Validation loss: 0.8411843180656433; Accuracy: 0.6819998621940613\n",
      "Epoch 15, CIFAR-10 Batch 3:  Validation loss: 0.6230272650718689; Accuracy: 0.6821998953819275\n",
      "Epoch 15, CIFAR-10 Batch 4:  Validation loss: 0.7689329385757446; Accuracy: 0.6917999386787415\n",
      "Epoch 15, CIFAR-10 Batch 5:  Validation loss: 0.6919599771499634; Accuracy: 0.6867998242378235\n",
      "Epoch 16, CIFAR-10 Batch 1:  Validation loss: 0.9573925733566284; Accuracy: 0.6819998025894165\n",
      "Epoch 16, CIFAR-10 Batch 2:  Validation loss: 0.771560549736023; Accuracy: 0.6899998188018799\n",
      "Epoch 16, CIFAR-10 Batch 3:  Validation loss: 0.629235029220581; Accuracy: 0.6915998458862305\n",
      "Epoch 16, CIFAR-10 Batch 4:  Validation loss: 0.7609078288078308; Accuracy: 0.687799870967865\n",
      "Epoch 16, CIFAR-10 Batch 5:  Validation loss: 0.6372544169425964; Accuracy: 0.6881998181343079\n",
      "Epoch 17, CIFAR-10 Batch 1:  Validation loss: 0.9009469151496887; Accuracy: 0.6965998411178589\n",
      "Epoch 17, CIFAR-10 Batch 2:  Validation loss: 0.7500298619270325; Accuracy: 0.6945999264717102\n",
      "Epoch 17, CIFAR-10 Batch 3:  Validation loss: 0.603718101978302; Accuracy: 0.6921998262405396\n",
      "Epoch 17, CIFAR-10 Batch 4:  Validation loss: 0.7462038993835449; Accuracy: 0.6959998607635498\n",
      "Epoch 17, CIFAR-10 Batch 5:  Validation loss: 0.664108395576477; Accuracy: 0.6973998546600342\n",
      "Epoch 18, CIFAR-10 Batch 1:  Validation loss: 0.8736931681632996; Accuracy: 0.6955998539924622\n",
      "Epoch 18, CIFAR-10 Batch 2:  Validation loss: 0.7247372269630432; Accuracy: 0.6951998472213745\n"
     ]
    },
    {
     "name": "stdout",
     "output_type": "stream",
     "text": [
      "Epoch 18, CIFAR-10 Batch 3:  Validation loss: 0.5767359137535095; Accuracy: 0.6951998472213745\n",
      "Epoch 18, CIFAR-10 Batch 4:  Validation loss: 0.7051757574081421; Accuracy: 0.700799822807312\n",
      "Epoch 18, CIFAR-10 Batch 5:  Validation loss: 0.6924389600753784; Accuracy: 0.7003998160362244\n",
      "Epoch 19, CIFAR-10 Batch 1:  Validation loss: 0.8349959850311279; Accuracy: 0.7055999040603638\n",
      "Epoch 19, CIFAR-10 Batch 2:  Validation loss: 0.6844629049301147; Accuracy: 0.6965999007225037\n",
      "Epoch 19, CIFAR-10 Batch 3:  Validation loss: 0.5917030572891235; Accuracy: 0.6947999000549316\n",
      "Epoch 19, CIFAR-10 Batch 4:  Validation loss: 0.7027641534805298; Accuracy: 0.7001998424530029\n",
      "Epoch 19, CIFAR-10 Batch 5:  Validation loss: 0.6049853563308716; Accuracy: 0.7039998173713684\n",
      "Epoch 20, CIFAR-10 Batch 1:  Validation loss: 0.8448255062103271; Accuracy: 0.7005999088287354\n",
      "Epoch 20, CIFAR-10 Batch 2:  Validation loss: 0.6528234481811523; Accuracy: 0.7027998566627502\n",
      "Epoch 20, CIFAR-10 Batch 3:  Validation loss: 0.5616609454154968; Accuracy: 0.7039998769760132\n",
      "Epoch 20, CIFAR-10 Batch 4:  Validation loss: 0.6961224675178528; Accuracy: 0.6981998682022095\n",
      "Epoch 20, CIFAR-10 Batch 5:  Validation loss: 0.6018615365028381; Accuracy: 0.7083998918533325\n",
      "Epoch 21, CIFAR-10 Batch 1:  Validation loss: 0.8351606130599976; Accuracy: 0.7129998803138733\n",
      "Epoch 21, CIFAR-10 Batch 2:  Validation loss: 0.6930023431777954; Accuracy: 0.7069999575614929\n",
      "Epoch 21, CIFAR-10 Batch 3:  Validation loss: 0.524284839630127; Accuracy: 0.7069998979568481\n",
      "Epoch 21, CIFAR-10 Batch 4:  Validation loss: 0.6637445688247681; Accuracy: 0.7065998315811157\n",
      "Epoch 21, CIFAR-10 Batch 5:  Validation loss: 0.5997262001037598; Accuracy: 0.7097999453544617\n",
      "Epoch 22, CIFAR-10 Batch 1:  Validation loss: 0.7799586057662964; Accuracy: 0.712199866771698\n",
      "Epoch 22, CIFAR-10 Batch 2:  Validation loss: 0.6483525633811951; Accuracy: 0.7029998898506165\n",
      "Epoch 22, CIFAR-10 Batch 3:  Validation loss: 0.4919501841068268; Accuracy: 0.7147998213768005\n",
      "Epoch 22, CIFAR-10 Batch 4:  Validation loss: 0.6094876527786255; Accuracy: 0.7071998715400696\n",
      "Epoch 22, CIFAR-10 Batch 5:  Validation loss: 0.5578941702842712; Accuracy: 0.7153998613357544\n",
      "Epoch 23, CIFAR-10 Batch 1:  Validation loss: 0.7716183066368103; Accuracy: 0.7165998220443726\n",
      "Epoch 23, CIFAR-10 Batch 2:  Validation loss: 0.577812910079956; Accuracy: 0.7013998627662659\n",
      "Epoch 23, CIFAR-10 Batch 3:  Validation loss: 0.4877946674823761; Accuracy: 0.7141999006271362\n",
      "Epoch 23, CIFAR-10 Batch 4:  Validation loss: 0.5836765766143799; Accuracy: 0.7121999263763428\n",
      "Epoch 23, CIFAR-10 Batch 5:  Validation loss: 0.5613719820976257; Accuracy: 0.7129998803138733\n",
      "Epoch 24, CIFAR-10 Batch 1:  Validation loss: 0.7682448625564575; Accuracy: 0.7137998342514038\n",
      "Epoch 24, CIFAR-10 Batch 2:  Validation loss: 0.5507447123527527; Accuracy: 0.7101998329162598\n",
      "Epoch 24, CIFAR-10 Batch 3:  Validation loss: 0.45957040786743164; Accuracy: 0.7151998281478882\n",
      "Epoch 24, CIFAR-10 Batch 4:  Validation loss: 0.5671262145042419; Accuracy: 0.7137998938560486\n",
      "Epoch 24, CIFAR-10 Batch 5:  Validation loss: 0.5355185270309448; Accuracy: 0.7141998410224915\n",
      "Epoch 25, CIFAR-10 Batch 1:  Validation loss: 0.7507823705673218; Accuracy: 0.7117999196052551\n",
      "Epoch 25, CIFAR-10 Batch 2:  Validation loss: 0.5613167881965637; Accuracy: 0.7131998538970947\n",
      "Epoch 25, CIFAR-10 Batch 3:  Validation loss: 0.463137686252594; Accuracy: 0.7163998484611511\n",
      "Epoch 25, CIFAR-10 Batch 4:  Validation loss: 0.5416622161865234; Accuracy: 0.7233998775482178\n",
      "Epoch 25, CIFAR-10 Batch 5:  Validation loss: 0.5379672050476074; Accuracy: 0.7121998071670532\n"
     ]
    }
   ],
   "source": [
    "\"\"\"\n",
    "DON'T MODIFY ANYTHING IN THIS CELL\n",
    "\"\"\"\n",
    "save_model_path = './image_classification'\n",
    "\n",
    "print('Training...')\n",
    "with tf.Session() as sess:\n",
    "    # Initializing the variables\n",
    "    sess.run(tf.global_variables_initializer())\n",
    "    \n",
    "    # Training cycle\n",
    "    for epoch in range(epochs):\n",
    "        # Loop over all batches\n",
    "        n_batches = 5\n",
    "        for batch_i in range(1, n_batches + 1):\n",
    "            for batch_features, batch_labels in helper.load_preprocess_training_batch(batch_i, batch_size):\n",
    "                train_neural_network(sess, optimizer, keep_probability, batch_features, batch_labels)\n",
    "            print('Epoch {:>2}, CIFAR-10 Batch {}:  '.format(epoch + 1, batch_i), end='')\n",
    "            print_stats(sess, batch_features, batch_labels, cost, accuracy)\n",
    "            \n",
    "    # Save Model\n",
    "    saver = tf.train.Saver()\n",
    "    save_path = saver.save(sess, save_model_path)"
   ]
  },
  {
   "cell_type": "markdown",
   "metadata": {},
   "source": [
    "# Checkpoint\n",
    "The model has been saved to disk.\n",
    "## Test Model\n",
    "Test your model against the test dataset.  This will be your final accuracy. You should have an accuracy greater than 50%. If you don't, keep tweaking the model architecture and parameters."
   ]
  },
  {
   "cell_type": "code",
   "execution_count": 21,
   "metadata": {},
   "outputs": [
    {
     "name": "stdout",
     "output_type": "stream",
     "text": [
      "INFO:tensorflow:Restoring parameters from ./image_classification\n",
      "Testing Accuracy: 0.7008359872611465\n",
      "\n"
     ]
    },
    {
     "data": {
      "image/png": "[encoded data removed]",
      "text/plain": [
       "<matplotlib.figure.Figure at 0x7f45e79e7588>"
      ]
     },
     "metadata": {
      "image/png": {
       "height": 319,
       "width": 355
      }
     },
     "output_type": "display_data"
    }
   ],
   "source": [
    "\"\"\"\n",
    "DON'T MODIFY ANYTHING IN THIS CELL\n",
    "\"\"\"\n",
    "%matplotlib inline\n",
    "%config InlineBackend.figure_format = 'retina'\n",
    "\n",
    "import tensorflow as tf\n",
    "import pickle\n",
    "import helper\n",
    "import random\n",
    "\n",
    "# Set batch size if not already set\n",
    "try:\n",
    "    if batch_size:\n",
    "        pass\n",
    "except NameError:\n",
    "    batch_size = 64\n",
    "\n",
    "save_model_path = './image_classification'\n",
    "n_samples = 4\n",
    "top_n_predictions = 3\n",
    "\n",
    "def test_model():\n",
    "    \"\"\"\n",
    "    Test the saved model against the test dataset\n",
    "    \"\"\"\n",
    "\n",
    "    test_features, test_labels = pickle.load(open('preprocess_test.p', mode='rb'))\n",
    "    loaded_graph = tf.Graph()\n",
    "\n",
    "    with tf.Session(graph=loaded_graph) as sess:\n",
    "        # Load model\n",
    "        loader = tf.train.import_meta_graph(save_model_path + '.meta')\n",
    "        loader.restore(sess, save_model_path)\n",
    "\n",
    "        # Get Tensors from loaded model\n",
    "        loaded_x = loaded_graph.get_tensor_by_name('x:0')\n",
    "        loaded_y = loaded_graph.get_tensor_by_name('y:0')\n",
    "        loaded_keep_prob = loaded_graph.get_tensor_by_name('keep_prob:0')\n",
    "        loaded_logits = loaded_graph.get_tensor_by_name('logits:0')\n",
    "        loaded_acc = loaded_graph.get_tensor_by_name('accuracy:0')\n",
    "        \n",
    "        # Get accuracy in batches for memory limitations\n",
    "        test_batch_acc_total = 0\n",
    "        test_batch_count = 0\n",
    "        \n",
    "        for test_feature_batch, test_label_batch in helper.batch_features_labels(test_features, test_labels, batch_size):\n",
    "            test_batch_acc_total += sess.run(\n",
    "                loaded_acc,\n",
    "                feed_dict={loaded_x: test_feature_batch, loaded_y: test_label_batch, loaded_keep_prob: 1.0})\n",
    "            test_batch_count += 1\n",
    "\n",
    "        print('Testing Accuracy: {}\\n'.format(test_batch_acc_total/test_batch_count))\n",
    "\n",
    "        # Print Random Samples\n",
    "        random_test_features, random_test_labels = tuple(zip(*random.sample(list(zip(test_features, test_labels)), n_samples)))\n",
    "        random_test_predictions = sess.run(\n",
    "            tf.nn.top_k(tf.nn.softmax(loaded_logits), top_n_predictions),\n",
    "            feed_dict={loaded_x: random_test_features, loaded_y: random_test_labels, loaded_keep_prob: 1.0})\n",
    "        helper.display_image_predictions(random_test_features, random_test_labels, random_test_predictions)\n",
    "\n",
    "\n",
    "test_model()"
   ]
  },
  {
   "cell_type": "markdown",
   "metadata": {},
   "source": [
    "## Why 50-80% Accuracy?\n",
    "You might be wondering why you can't get an accuracy any higher. First things first, 50% isn't bad for a simple CNN.  Pure guessing would get you 10% accuracy. However, you might notice people are getting scores [well above 80%](http://rodrigob.github.io/are_we_there_yet/build/classification_datasets_results.html#43494641522d3130).  That's because we haven't taught you all there is to know about neural networks. We still need to cover a few more techniques.\n",
    "## Submitting This Project\n",
    "When submitting this project, make sure to run all the cells before saving the notebook.  Save the notebook file as \"dlnd_image_classification.ipynb\" and save it as a HTML file under \"File\" -> \"Download as\".  Include the \"helper.py\" and \"problem_unittests.py\" files in your submission."
   ]
  }
 ],
 "metadata": {
  "kernelspec": {
   "display_name": "Python 3",
   "language": "python",
   "name": "python3"
  },
  "language_info": {
   "codemirror_mode": {
    "name": "ipython",
    "version": 3
   },
   "file_extension": ".py",
   "mimetype": "text/x-python",
   "name": "python",
   "nbconvert_exporter": "python",
   "pygments_lexer": "ipython3",
   "version": "3.5.2"
  }
 },
 "nbformat": 4,
 "nbformat_minor": 1
}
